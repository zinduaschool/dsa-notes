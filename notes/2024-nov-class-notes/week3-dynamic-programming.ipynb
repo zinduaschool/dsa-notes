{
 "cells": [
  {
   "cell_type": "markdown",
   "metadata": {},
   "source": [
    "# Dynamic Programming Notes"
   ]
  },
  {
   "cell_type": "markdown",
   "metadata": {},
   "source": [
    "## Dynamic Programming Foundations\n",
    "Dynamic programming is simply recursion on steroids, we add efficiency to recursive sub-problems to avoid duplicate computations."
   ]
  },
  {
   "cell_type": "code",
   "execution_count": null,
   "metadata": {},
   "outputs": [
    {
     "data": {
      "text/plain": [
       "55"
      ]
     },
     "execution_count": 1,
     "metadata": {},
     "output_type": "execute_result"
    }
   ],
   "source": [
    "## Fibonacci Sequence Recursion\n",
    "def fibonacci(n):\n",
    "    if n == 1:\n",
    "        return 1\n",
    "    if n == 2:\n",
    "         return 1\n",
    "    return fibonacci(n-1) + fibonacci(n-2)\n",
    "\n",
    "\n",
    "fibonacci(10)"
   ]
  },
  {
   "cell_type": "code",
   "execution_count": null,
   "metadata": {},
   "outputs": [
    {
     "data": {
      "text/plain": [
       "55"
      ]
     },
     "execution_count": 2,
     "metadata": {},
     "output_type": "execute_result"
    }
   ],
   "source": [
    "## Fibonacci Sequence Top-Down DP\n",
    "cache = dict() #n is the key\n",
    "def fibonacci(n):\n",
    "    ##Base cases\n",
    "    if n == 1:\n",
    "        return 1\n",
    "    if n == 2:\n",
    "         return 1\n",
    "    ## Retrieve from cache\n",
    "    if n in cache.keys():\n",
    "        return cache[n]\n",
    "\n",
    "    ## Repetitive sub-problem (Always save to cache first)\n",
    "    cache[n] = fibonacci(n-1) + fibonacci(n-2)\n",
    "    return cache[n]\n",
    "\n",
    "\n",
    "fibonacci(10)"
   ]
  },
  {
   "cell_type": "code",
   "execution_count": 6,
   "metadata": {},
   "outputs": [
    {
     "data": {
      "text/plain": [
       "55"
      ]
     },
     "execution_count": 6,
     "metadata": {},
     "output_type": "execute_result"
    }
   ],
   "source": [
    "## Fibonacci Sequence Bottom-Up DP\n",
    "def fibonacci(n):\n",
    "    ##Base cases\n",
    "    if n == 1:\n",
    "        return 1\n",
    "    if n == 2:\n",
    "         return 1\n",
    "    \n",
    "    ##Iterative Solution\n",
    "    a,b = 1,1\n",
    "    for i in range(2,n):\n",
    "        c = a + b\n",
    "        a = b\n",
    "        b = c\n",
    "    return c\n",
    "\n",
    "\n",
    "fibonacci(10)"
   ]
  },
  {
   "cell_type": "markdown",
   "metadata": {},
   "source": [
    "In summary, let's look at the Big-O notations:\n",
    "|  | Recursion | Top-Down | Bottom-Up |\n",
    "|---|---|---|---|\n",
    "| Runtime | O(2^n) | O(n) | O(n) |\n",
    "| Space | O(1) | O(n) | O(1) |"
   ]
  },
  {
   "cell_type": "markdown",
   "metadata": {},
   "source": [
    "## Zero-One Knapsack\n",
    "Maximise return based on a basket of items. Each item is either in the knapsack or not in the knapsack."
   ]
  },
  {
   "cell_type": "code",
   "execution_count": null,
   "metadata": {},
   "outputs": [],
   "source": [
    "### Top-Down Dynamic Programming\n",
    "cache = dict() ## (maxW, weights): whatever the knapsack computes\n",
    "def knapsack(maxW, weights, profits):\n",
    "    ##Base Cases\n",
    "    if len(weights) == 0:\n",
    "        return 0\n",
    "    if len(weights) == 1:\n",
    "        if weights[0] > maxW:\n",
    "            return 0\n",
    "        else:\n",
    "            return profits[0]\n",
    "\n",
    "    ## retrieve from precomputed responses\n",
    "    if (maxW,tuple(weights)) in cache.keys():\n",
    "        return cache[(maxW,tuple(weights))]\n",
    "\n",
    "    ### Repetitive Subproblem\n",
    "    if weights[-1] > maxW:\n",
    "        cache[(maxW,tuple(weights))] = knapsack(maxW, weights[:-1],profits[:-1])\n",
    "        return cache[(maxW,tuple(weights))]\n",
    "    else:\n",
    "        a = knapsack(maxW, weights[:-1],profits[:-1])  #ignore the last item\n",
    "        b = profits[-1] + knapsack(maxW-weights[-1],weights[:-1],profits[:-1]) #include the last item\n",
    "        cache[(maxW,tuple(weights))] = max(a,b)\n",
    "        return cache[(maxW,tuple(weights))]\n",
    "    \n",
    "\n",
    "knapsack(18,[1,3,5,7],[2,4,7,10])"
   ]
  },
  {
   "cell_type": "markdown",
   "metadata": {},
   "source": [
    "In summary, let's look at the Big-O notations (Where `m` is the number of items and `n` is the size of the knapsack):\n",
    "|  | Recursion | Top-Down | Bottom-Up |\n",
    "|---|---|---|---|\n",
    "| Runtime | O(2^n) | O(n*m) | O(n*m) |\n",
    "| Space | O(1) | O(n*m) | O(n) |\n",
    "\n",
    "Here are some of the real-world applications of the Zero-One Knapsack:\n",
    "1. Data Compression: Choosing a subset of files to compress within a storage limit while preserving important data\n",
    "2. Task Scheduling: Choosing a set of tasks to fit into a schedule while maximising the expected output\n",
    "3. Investment/Resource Allocation: Choosing which assets to allocate investments based on risks and returns"
   ]
  },
  {
   "cell_type": "markdown",
   "metadata": {},
   "source": [
    "## Unbounded Knapsack\n",
    "Maximise return based on a basket of items. Each item can be selected multiple times into the knapsack."
   ]
  },
  {
   "cell_type": "code",
   "execution_count": 11,
   "metadata": {},
   "outputs": [
    {
     "data": {
      "text/plain": [
       "-1"
      ]
     },
     "execution_count": 11,
     "metadata": {},
     "output_type": "execute_result"
    }
   ],
   "source": [
    "### Top Down DP – Minimum number of coins to give change C\n",
    "cache = dict() ### key is (coins,amount)\n",
    "\n",
    "def change(coins, amount):\n",
    "    ##Base Cases\n",
    "    if amount == 0:\n",
    "        return 0\n",
    "    if len(coins) == 0 and amount > 0:\n",
    "        return float('inf')\n",
    "    if len(coins) == 1:\n",
    "        if amount < coins[0]:\n",
    "            return float('inf')\n",
    "        elif amount % coins[0] == 0:\n",
    "            return amount/coins[0]\n",
    "        else:\n",
    "            return float('inf')\n",
    "    \n",
    "    ## Retrieve value from cache\n",
    "    if (tuple(coins),amount) in cache.keys():\n",
    "        cache[(tuple(coins),amount)]\n",
    "\n",
    "    ### Repetitive subproblem\n",
    "    ##The coin value is greater than the change amount\n",
    "    if coins[0]>amount: \n",
    "        cache[(tuple(coins),amount)] = change(coins[1:], amount) #Exclude the coin\n",
    "        return cache[(tuple(coins),amount)]\n",
    "    \n",
    "    ##The coin is not greater than the change amount\n",
    "    a = 1 + change(coins, amount-coins[0]) #Include the coin\n",
    "    b = change(coins[1:], amount) #Exclude the coin\n",
    "    cache[(tuple(coins),amount)] = min(a,b)\n",
    "    return cache[(tuple(coins),amount)]\n",
    "\n",
    "def coinchange(coins,amount):\n",
    "    result = change(coins, amount)\n",
    "    if result == float('inf'):\n",
    "        return -1\n",
    "    return result\n",
    "\n",
    "\n",
    "coinchange([2],3)"
   ]
  },
  {
   "cell_type": "code",
   "execution_count": 13,
   "metadata": {},
   "outputs": [
    {
     "data": {
      "text/plain": [
       "3"
      ]
     },
     "execution_count": 13,
     "metadata": {},
     "output_type": "execute_result"
    }
   ],
   "source": [
    "## Bottom-up DP Approach\n",
    "\n",
    "def coinchange(amount, coins):\n",
    "    ## Base Cases\n",
    "    if amount == 0:\n",
    "        return 0\n",
    "    if len(coins) == 1: #3 [2], 4 [2]\n",
    "        if coins[0] > amount:\n",
    "            return float('inf')\n",
    "        else:\n",
    "            return float('inf') if amount%coins[0] != 0 else amount/coins[0]\n",
    "        \n",
    "    ## Iterative solution\n",
    "    prev = [0] + [float('inf')] * amount\n",
    "    for coin in coins:\n",
    "        curr = [0] * (amount + 1)\n",
    "        for i in range(1,amount+1):\n",
    "            if coin > i:\n",
    "                curr[i] = prev[i]\n",
    "            else:\n",
    "                a = prev[i]\n",
    "                b = 1 + curr[i-coin]\n",
    "                curr[i] = min(a,b)\n",
    "        prev = curr\n",
    "\n",
    "    return curr[-1]\n",
    "        \n",
    "\n",
    "coinchange(11,[1,3,5,7])\n"
   ]
  },
  {
   "cell_type": "markdown",
   "metadata": {},
   "source": [
    "In summary, let's look at the Big-O notations (Where `m` is the number of coins and `n` is the amount of change):\n",
    "|  | Recursion | Top-Down | Bottom-Up |\n",
    "|---|---|---|---|\n",
    "| Runtime | O(2^n) | O(n*m) | O(n*m) |\n",
    "| Space | O(1) | O(n*m) | O(n) |\n",
    "\n",
    "Here are some real world applications for the Unbounded Knapsack:\n",
    "1. **Investment/Resource Allocation:** Choosing which assets to allocate investments based on risks and returns\n",
    "2. **Inventory Management:** Deciding how many units of each product to stock in a warehouse to maximize profit while considering storage space limitations.\n",
    "3. **Production Planning:** Choosing the optimal production quantity of different products to maximize revenue within a production capacity constraint.\n",
    "4. **Investment Portfolio Optimization:** Selecting the best mix of investments (like stocks and bonds) to maximize potential returns while managing risk within a fixed budget.\n",
    "5. **Cutting Raw Materials/Dividing a Fixed Resources:** Finding the most efficient way to cut raw materials (like fabric or metal sheets) into smaller pieces to minimize waste. Also applied for division of resources to optimise returns e.g. land splits for sales, planning real estate (e.g. what type of houses to fit in an architectural plan), etc."
   ]
  },
  {
   "cell_type": "markdown",
   "metadata": {},
   "source": [
    "## Longest Common Subsequence\n",
    "Given two strings what is the length of the longest common subsequence.\n",
    "This DP pattern also applies for the Longest Common Substring/Prefix/Suffix and Longest Palindromic Substring/Subsequence"
   ]
  },
  {
   "cell_type": "code",
   "execution_count": 29,
   "metadata": {},
   "outputs": [
    {
     "data": {
      "text/plain": [
       "4"
      ]
     },
     "execution_count": 29,
     "metadata": {},
     "output_type": "execute_result"
    }
   ],
   "source": [
    "## Top-Down Dynamic Programming\n",
    "cache = dict()\n",
    "def lcs(txt1,txt2):\n",
    "    ##Base cases\n",
    "    if len(txt1) == 0 or len(txt2) == 0:\n",
    "        return 0\n",
    "    \n",
    "    ## Retrieve from cache\n",
    "    if (txt1,txt2) in cache.keys():\n",
    "        return cache[(txt1,txt2)]\n",
    "    \n",
    "    if txt1[0] == txt2[0]:\n",
    "        cache[(txt1,txt2)] = 1 + lcs(txt1[1:],txt2[1:])\n",
    "        return cache[(txt1,txt2)]\n",
    "    \n",
    "    a = lcs(txt1[1:],txt2)\n",
    "    b = lcs(txt1,txt2[1:])\n",
    "    cache[(txt1,txt2)] = max(a,b)\n",
    "    return cache[(txt1,txt2)]\n",
    "\n",
    "\n",
    "lcs('abcdefghij', 'ecdgi')"
   ]
  },
  {
   "cell_type": "code",
   "execution_count": 28,
   "metadata": {},
   "outputs": [
    {
     "data": {
      "text/plain": [
       "4"
      ]
     },
     "execution_count": 28,
     "metadata": {},
     "output_type": "execute_result"
    }
   ],
   "source": [
    "## Bottom-up Dynamic Programming\n",
    "def lcs(txt1,txt2):\n",
    "    ##Base cases\n",
    "    if len(txt1) == 0 or len(txt2) == 0:\n",
    "        return 0\n",
    "    \n",
    "    prev = [0] + [0]*len(txt1)\n",
    "    for char in txt2:\n",
    "        curr = [0] + [0]*len(txt1)\n",
    "        for i in range(1,len(curr)):\n",
    "            if char == txt1[i-1]:\n",
    "                curr[i] = 1 + prev[i-1]\n",
    "            else:\n",
    "                curr[i] = max(curr[i-1],prev[i])\n",
    "        prev = curr\n",
    "\n",
    "    return curr[-1]\n",
    "\n",
    "\n",
    "lcs('abcdefghij', 'ecdgi')"
   ]
  },
  {
   "cell_type": "markdown",
   "metadata": {},
   "source": [
    "In summary, let's look at the Big-O notations (Where `m` is the length of `txt2` and `n` is the length of `txt1`):\n",
    "|  | Recursion | Top-Down | Bottom-Up |\n",
    "|---|---|---|---|\n",
    "| Runtime | O(2^n) | O(n*m) | O(n*m) |\n",
    "| Space | O(1) | O(n*m) | O(n) |\n",
    "\n",
    "Here are some application of the LCS DP pattern:\n",
    "1. **Antivirus Software:** Detecting scripts for commonly known viruses\n",
    "2. **Git Version Control:** Identifying substrings of code that have changed for every commit to the origin repository\n",
    "3. **Plagiarism Checker:** Identifying plagiarism in pieces of content by comparing with already produced/published content\n",
    "4. **Genetic Analysis:** Used to compare DNA sequences to find similarities, which can help scientists understand genetic relationships between different organisms"
   ]
  },
  {
   "cell_type": "markdown",
   "metadata": {},
   "source": [
    "## DP in Grid, Graphs, and Trees"
   ]
  },
  {
   "cell_type": "markdown",
   "metadata": {},
   "source": [
    "### Floyd-Warshall Shortest Path\n",
    "Floyd-Warshall Algorithm is an algorithm for finding the shortest path between all the pairs of vertices in a weighted graph."
   ]
  },
  {
   "cell_type": "code",
   "execution_count": 8,
   "metadata": {},
   "outputs": [
    {
     "data": {
      "text/plain": [
       "[[0, 3, 2, 3, 1],\n",
       " [4, 0, 6, 7, 5],\n",
       " [5, 1, 0, 1, 5],\n",
       " [5, 4, 3, 0, 4],\n",
       " [7, 6, 5, 2, 0]]"
      ]
     },
     "execution_count": 8,
     "metadata": {},
     "output_type": "execute_result"
    }
   ],
   "source": [
    "def floydwarshall(graph):\n",
    "    n = len(graph)\n",
    "\n",
    "    for k in range(n):\n",
    "        for i in range(n):\n",
    "            for j in range(n):\n",
    "                graph[i][j] = min(graph[i][j], graph[i][k] + graph[k][j])\n",
    "\n",
    "    return graph\n",
    "\n",
    "\n",
    "inf = float('inf')\n",
    "floydwarshall([[0,inf,2,inf,1],[4,0,inf,inf,inf],[inf,1,0,1,inf],[5,inf,3,0,4],[inf,6,inf,2,0]])"
   ]
  },
  {
   "cell_type": "markdown",
   "metadata": {},
   "source": [
    "### Bellman-Ford Shortest Path in a Digraph\n",
    "The Bellman–Ford algorithm is an algorithm that computes shortest paths from a single source vertex to all of the other vertices in a weighted digraph."
   ]
  }
 ],
 "metadata": {
  "kernelspec": {
   "display_name": "Python 3",
   "language": "python",
   "name": "python3"
  },
  "language_info": {
   "codemirror_mode": {
    "name": "ipython",
    "version": 3
   },
   "file_extension": ".py",
   "mimetype": "text/x-python",
   "name": "python",
   "nbconvert_exporter": "python",
   "pygments_lexer": "ipython3",
   "version": "3.11.4"
  }
 },
 "nbformat": 4,
 "nbformat_minor": 2
}
