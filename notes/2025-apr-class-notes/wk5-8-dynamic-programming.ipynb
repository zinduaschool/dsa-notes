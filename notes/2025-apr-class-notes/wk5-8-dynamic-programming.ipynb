{
 "cells": [
  {
   "cell_type": "markdown",
   "id": "cb0e7888",
   "metadata": {},
   "source": [
    "# Dynamic Programming"
   ]
  },
  {
   "cell_type": "markdown",
   "id": "a600b3f9",
   "metadata": {},
   "source": [
    "## Recursion"
   ]
  },
  {
   "cell_type": "code",
   "execution_count": 23,
   "id": "0f91d984",
   "metadata": {},
   "outputs": [],
   "source": [
    "cache = dict() ## n as the key; solution as the value\n",
    "def fibonacci(n):\n",
    "    ## Base Cases\n",
    "    if n == 1:\n",
    "        return 1\n",
    "    if n == 2:\n",
    "        return 1\n",
    "\n",
    "    if n in cache.keys():\n",
    "        return cache[n]\n",
    "\n",
    "    cache[n] = fibonacci(n-1) + fibonacci(n-2)\n",
    "    return cache[n]"
   ]
  },
  {
   "cell_type": "code",
   "execution_count": 5,
   "id": "6ee8fee7",
   "metadata": {},
   "outputs": [
    {
     "data": {
      "text/plain": [
       "55"
      ]
     },
     "execution_count": 5,
     "metadata": {},
     "output_type": "execute_result"
    }
   ],
   "source": [
    "fibonacci(10)"
   ]
  },
  {
   "cell_type": "code",
   "execution_count": 8,
   "id": "3b0b2a31",
   "metadata": {},
   "outputs": [],
   "source": [
    "def factorial(n):\n",
    "    if n == 0:\n",
    "        return 1\n",
    "    return n * factorial(n-1)"
   ]
  },
  {
   "cell_type": "code",
   "execution_count": 9,
   "id": "15bcd112",
   "metadata": {},
   "outputs": [
    {
     "data": {
      "text/plain": [
       "120"
      ]
     },
     "execution_count": 9,
     "metadata": {},
     "output_type": "execute_result"
    }
   ],
   "source": [
    "factorial(5)"
   ]
  },
  {
   "cell_type": "code",
   "execution_count": 10,
   "id": "77a87bdf",
   "metadata": {},
   "outputs": [
    {
     "data": {
      "text/plain": [
       "6765"
      ]
     },
     "execution_count": 10,
     "metadata": {},
     "output_type": "execute_result"
    }
   ],
   "source": [
    "fibonacci(20)"
   ]
  },
  {
   "cell_type": "code",
   "execution_count": null,
   "id": "9aa56a69",
   "metadata": {},
   "outputs": [],
   "source": [
    "## Top-Down Dynamic Programming (Use the same recursion, add a cache)\n",
    "\n",
    "cache  = dict() #Key is n (term), value is the solution\n",
    "def fibonacci(n):\n",
    "    ## Base Cases\n",
    "    if n == 1:\n",
    "        return 1\n",
    "    if n == 2:\n",
    "        return 1\n",
    "\n",
    "    if n in cache.keys():\n",
    "        return cache[n]\n",
    "\n",
    "    cache[n] = fibonacci(n-1) + fibonacci(n-2)\n",
    "    return cache[n]"
   ]
  },
  {
   "cell_type": "code",
   "execution_count": null,
   "id": "9b79e13d",
   "metadata": {},
   "outputs": [],
   "source": [
    "## Bottom-Up Approach: Take an iterative approach (Reduces the space in use)\n",
    "def fib(n):\n",
    "    ## Base Cases\n",
    "    if n == 1:\n",
    "        return 1\n",
    "    if n == 2:\n",
    "        return 1\n",
    "\n",
    "    a = 1\n",
    "    b = 1\n",
    "    ## Iterative solutions\n",
    "    for i in range(2,n):\n",
    "        c = a + b\n",
    "        a = b\n",
    "        b = c\n",
    "\n",
    "    return c\n"
   ]
  },
  {
   "cell_type": "code",
   "execution_count": 21,
   "id": "74645dee",
   "metadata": {},
   "outputs": [
    {
     "data": {
      "text/plain": [
       "33644764876431783266621612005107543310302148460680063906564769974680081442166662368155595513633734025582065332680836159373734790483865268263040892463056431887354544369559827491606602099884183933864652731300088830269235673613135117579297437854413752130520504347701602264758318906527890855154366159582987279682987510631200575428783453215515103870818298969791613127856265033195487140214287532698187962046936097879900350962302291026368131493195275630227837628441540360584402572114334961180023091208287046088923962328835461505776583271252546093591128203925285393434620904245248929403901706233888991085841065183173360437470737908552631764325733993712871937587746897479926305837065742830161637408969178426378624212835258112820516370298089332099905707920064367426202389783111470054074998459250360633560933883831923386783056136435351892133279732908133732642652633989763922723407882928177953580570993691049175470808931841056146322338217465637321248226383092103297701648054726243842374862411453093812206564914032751086643394517512161526545361333111314042436854805106765843493523836959653428071768775328348234345557366719731392746273629108210679280784718035329131176778924659089938635459327894523777674406192240337638674004021330343297496902028328145933418826817683893072003634795623117103101291953169794607632737589253530772552375943788434504067715555779056450443016640119462580972216729758615026968443146952034614932291105970676243268515992834709891284706740862008587135016260312071903172086094081298321581077282076353186624611278245537208532365305775956430072517744315051539600905168603220349163222640885248852433158051534849622434848299380905070483482449327453732624567755879089187190803662058009594743150052402532709746995318770724376825907419939632265984147498193609285223945039707165443156421328157688908058783183404917434556270520223564846495196112460268313970975069382648706613264507665074611512677522748621598642530711298441182622661057163515069260029861704945425047491378115154139941550671256271197133252763631939606902895650288268608362241082050562430701794976171121233066073310059947366875"
      ]
     },
     "execution_count": 21,
     "metadata": {},
     "output_type": "execute_result"
    }
   ],
   "source": [
    "fib(10000)"
   ]
  },
  {
   "cell_type": "code",
   "execution_count": 22,
   "id": "5c167bcd",
   "metadata": {},
   "outputs": [
    {
     "data": {
      "text/plain": [
       "43466557686937456435688527675040625802564660517371780402481729089536555417949051890403879840079255169295922593080322634775209689623239873322471161642996440906533187938298969649928516003704476137795166849228875"
      ]
     },
     "execution_count": 22,
     "metadata": {},
     "output_type": "execute_result"
    }
   ],
   "source": [
    "fibonacci(1000)"
   ]
  },
  {
   "cell_type": "code",
   "execution_count": 30,
   "id": "6216ac77",
   "metadata": {},
   "outputs": [],
   "source": [
    "cache = dict() ## Keys as the input array; value is the solution\n",
    "def steal(arr):\n",
    "    if len(arr) == 0:\n",
    "        return 0\n",
    "    ## Base Cases\n",
    "    if len(arr) == 1:\n",
    "        return arr[0]\n",
    "    if len(arr) == 2:\n",
    "        return max(arr[0],arr[1])\n",
    "\n",
    "    if tuple(arr) in cache.keys():\n",
    "        return cache[tuple(arr)]\n",
    "\n",
    "    a = arr[-1] + steal(arr[:-2])\n",
    "    b = steal(arr[:-1])\n",
    "    cache[tuple(arr)] = max(a,b)\n",
    "    return cache[tuple(arr)]"
   ]
  },
  {
   "cell_type": "code",
   "execution_count": null,
   "id": "47b3afab",
   "metadata": {},
   "outputs": [],
   "source": [
    "def linerob(lst):\n",
    "    if len(lst) == 0:\n",
    "        return None\n",
    "    a = lst[0]\n",
    "    if len(lst) == 1:\n",
    "        return a\n",
    "    b = max(lst[0], lst[1])\n",
    "    if len(lst) == 2:\n",
    "        return b\n",
    "    for i in range(2,len(lst)):\n",
    "        c = max(b,a+lst[i])\n",
    "        a = b\n",
    "        b = c\n",
    "    return c"
   ]
  },
  {
   "cell_type": "code",
   "execution_count": 31,
   "id": "a464f39f",
   "metadata": {},
   "outputs": [
    {
     "data": {
      "text/plain": [
       "12"
      ]
     },
     "execution_count": 31,
     "metadata": {},
     "output_type": "execute_result"
    }
   ],
   "source": [
    "steal([2,7,9,3,1])"
   ]
  },
  {
   "cell_type": "markdown",
   "id": "03aaee16",
   "metadata": {},
   "source": [
    "## Practice Problems"
   ]
  },
  {
   "cell_type": "markdown",
   "id": "5c046539",
   "metadata": {},
   "source": [
    "### Pascal Triangle Problem - Leetcode 188\n",
    "Given an integer numRows, return the first numRows of Pascal's triangle.\n",
    "\n",
    "In Pascal's triangle, each number is the sum of the two numbers directly above it as shown:\n",
    "\n",
    "**Example 1:**\n",
    "\n",
    "Input: `numRows = 5`\n",
    "Output: `[[1],[1,1],[1,2,1],[1,3,3,1],[1,4,6,4,1]]`\n",
    "\n",
    "Example 2:\n",
    "\n",
    "Input: `numRows = 1`\n",
    "Output: `[[1]]`"
   ]
  },
  {
   "cell_type": "code",
   "execution_count": 35,
   "id": "91ace26d",
   "metadata": {},
   "outputs": [],
   "source": [
    "def pascal(n):\n",
    "    ## Base cases\n",
    "    if n == 1:\n",
    "        return [[1]]\n",
    "    if n == 2:\n",
    "        return [[1],[1,1]]\n",
    "    \n",
    "    nums = [[1],[1,1]]\n",
    "\n",
    "    for j in range(3,n+1):\n",
    "        prev = nums[-1]\n",
    "        \n",
    "        curr = [1]\n",
    "        \n",
    "        for i in range(1,j-1):\n",
    "            curr.append(prev[i] + prev[i-1])\n",
    "        \n",
    "        curr.append(1)\n",
    "\n",
    "        nums.append(curr)\n",
    "    \n",
    "    return nums"
   ]
  },
  {
   "cell_type": "code",
   "execution_count": null,
   "id": "a74eadb8",
   "metadata": {},
   "outputs": [],
   "source": [
    "def pascal(n):\n",
    "    if n == 1:\n",
    "        return [[1]]\n",
    "    if n == 2:\n",
    "        return [[1],[1,1]]\n",
    "\n",
    "    ## Get the last created array\n",
    "    nums = pascal(n-1)\n",
    "    prev = nums[-1]\n",
    "    \n",
    "    ## Generate the new array\n",
    "    curr = [1] \n",
    "    for i in range(1,n-1):\n",
    "        curr.append(prev[i] + prev[i-1])\n",
    "    curr.append(1)\n",
    "\n",
    "    nums.append(curr)\n",
    "    return nums"
   ]
  },
  {
   "cell_type": "code",
   "execution_count": 38,
   "id": "71ebdaf0",
   "metadata": {},
   "outputs": [
    {
     "data": {
      "text/plain": [
       "[[1], [1, 1], [1, 2, 1], [1, 3, 3, 1], [1, 4, 6, 4, 1], [1, 5, 10, 10, 5, 1]]"
      ]
     },
     "execution_count": 38,
     "metadata": {},
     "output_type": "execute_result"
    }
   ],
   "source": [
    "pascal(6)"
   ]
  },
  {
   "cell_type": "markdown",
   "id": "9dce25bd",
   "metadata": {},
   "source": [
    "### Min Cost Climbing Stairs – Leetcode 746\n",
    "You are given an integer array cost where cost[i] is the cost of ith step on a staircase. Once you pay the cost, you can either climb one or two steps.\n",
    "\n",
    "You can either start from the step with index 0, or the step with index 1.\n",
    "\n",
    "Return the minimum cost to reach the top of the floor.\n",
    "\n",
    " \n",
    "\n",
    "Example 1:\n",
    "\n",
    "Input: cost = [10,15,20]\n",
    "Output: 15\n",
    "Explanation: You will start at index 1.\n",
    "- Pay 15 and climb two steps to reach the top.\n",
    "The total cost is 15.\n",
    "Example 2:\n",
    "\n",
    "Input: cost = [1,100,1,1,1,100,1,1,100,1]\n",
    "Output: 6\n",
    "Explanation: You will start at index 0.\n",
    "- Pay 1 and climb two steps to reach index 2.\n",
    "- Pay 1 and climb two steps to reach index 4.\n",
    "- Pay 1 and climb two steps to reach index 6.\n",
    "- Pay 1 and climb one step to reach index 7.\n",
    "- Pay 1 and climb two steps to reach index 9.\n",
    "- Pay 1 and climb one step to reach the top.\n",
    "The total cost is 6."
   ]
  },
  {
   "cell_type": "code",
   "execution_count": 44,
   "id": "f64a6ddb",
   "metadata": {},
   "outputs": [],
   "source": [
    "cache = dict() ## Key is the input of function, value is the result of function\n",
    "def mincost(nums):\n",
    "    if len(nums) == 1:\n",
    "        return 0\n",
    "    if len(nums) == 2:\n",
    "        return min(nums[0], nums[1])\n",
    "    \n",
    "    if tuple(nums) in cache.keys():\n",
    "        return cache[tuple(nums)]\n",
    "\n",
    "    a = nums[-1] + mincost(nums[:-1])\n",
    "    b = nums[-2] + mincost(nums[:-2])\n",
    "\n",
    "    cache[tuple(nums)] = min(a,b)\n",
    "    return cache[tuple(nums)]"
   ]
  },
  {
   "cell_type": "code",
   "execution_count": 45,
   "id": "ecb19dc5",
   "metadata": {},
   "outputs": [
    {
     "data": {
      "text/plain": [
       "6"
      ]
     },
     "execution_count": 45,
     "metadata": {},
     "output_type": "execute_result"
    }
   ],
   "source": [
    "mincost([1,100,1,1,1,100,1,1,100,1])"
   ]
  },
  {
   "cell_type": "markdown",
   "id": "e4f9dd3d",
   "metadata": {},
   "source": [
    "# Zero-One Knapsack"
   ]
  },
  {
   "cell_type": "code",
   "execution_count": 13,
   "id": "83bf4687",
   "metadata": {},
   "outputs": [],
   "source": [
    "## Top-Down Approach\n",
    "cache = dict()\n",
    "def knapsack(weights, profits, max_w):\n",
    "    ### Base Cases\n",
    "    if max_w == 0:\n",
    "        return 0\n",
    "    if len(weights) == 0:\n",
    "        return 0\n",
    "    \n",
    "    if len(weights) == 1:\n",
    "        if weights[0] > max_w:\n",
    "            return 0\n",
    "        return profits[0]\n",
    "\n",
    "    if (tuple(weights),max_w) in cache.keys():\n",
    "        return cache[(tuple(weights),max_w)]\n",
    "    \n",
    "    if weights[-1] > max_w:\n",
    "        cache[(tuple(weights),max_w)] = knapsack(weights[:-1], profits[:-1], max_w)\n",
    "        return cache[(tuple(weights),max_w)]\n",
    "    \n",
    "    a = profits[-1] + knapsack(weights[:-1], profits[:-1], max_w-weights[-1])\n",
    "    b = knapsack(weights[:-1], profits[:-1], max_w)\n",
    "    cache[(tuple(weights),max_w)] = max(a,b)\n",
    "    return cache[(tuple(weights),max_w)]"
   ]
  },
  {
   "cell_type": "code",
   "execution_count": 15,
   "id": "2fa6fa37",
   "metadata": {},
   "outputs": [],
   "source": [
    "## Bottom-Up Approach\n",
    "\n",
    "def knapsack(weights, profits, max_w):\n",
    "    ### Base Cases\n",
    "    if max_w == 0:\n",
    "        return 0\n",
    "    if len(weights) == 0:\n",
    "        return 0\n",
    "    \n",
    "    if len(weights) == 1:\n",
    "        if weights[0] > max_w:\n",
    "            return 0\n",
    "        return profits[0]\n",
    "\n",
    "    ### Iterative solution\n",
    "    prev = [0] * (max_w + 1)\n",
    "    curr = [0] * (max_w + 1)\n",
    "\n",
    "    for i in range(len(weights)):\n",
    "        for j in range(max_w+1):\n",
    "            if weights[i] > j:\n",
    "                curr[j] = prev[j]\n",
    "            else:\n",
    "                a = prev[j] ## Don't include\n",
    "                b = profits[i] + prev[j-weights[i]] ## Include\n",
    "                curr[j] = max(a,b)\n",
    "        prev = curr\n",
    "\n",
    "    return curr[-1]"
   ]
  },
  {
   "cell_type": "code",
   "execution_count": 17,
   "id": "b8f6a80b",
   "metadata": {},
   "outputs": [
    {
     "data": {
      "text/plain": [
       "17"
      ]
     },
     "execution_count": 17,
     "metadata": {},
     "output_type": "execute_result"
    }
   ],
   "source": [
    "weights = [1,3,5,7]\n",
    "profits = [2,4,7,10]\n",
    "max_w = 12\n",
    "knapsack(weights, profits, max_w)"
   ]
  },
  {
   "cell_type": "code",
   "execution_count": null,
   "id": "7a6d863e",
   "metadata": {},
   "outputs": [],
   "source": []
  }
 ],
 "metadata": {
  "kernelspec": {
   "display_name": "Python 3",
   "language": "python",
   "name": "python3"
  },
  "language_info": {
   "codemirror_mode": {
    "name": "ipython",
    "version": 3
   },
   "file_extension": ".py",
   "mimetype": "text/x-python",
   "name": "python",
   "nbconvert_exporter": "python",
   "pygments_lexer": "ipython3",
   "version": "3.11.4"
  }
 },
 "nbformat": 4,
 "nbformat_minor": 5
}
