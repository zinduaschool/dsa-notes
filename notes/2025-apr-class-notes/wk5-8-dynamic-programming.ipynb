{
 "cells": [
  {
   "cell_type": "markdown",
   "id": "cb0e7888",
   "metadata": {},
   "source": [
    "# Dynamic Programming"
   ]
  },
  {
   "cell_type": "markdown",
   "id": "a600b3f9",
   "metadata": {},
   "source": [
    "## Recursion"
   ]
  },
  {
   "cell_type": "code",
   "execution_count": 23,
   "id": "0f91d984",
   "metadata": {},
   "outputs": [],
   "source": [
    "cache = dict() ## n as the key; solution as the value\n",
    "def fibonacci(n):\n",
    "    ## Base Cases\n",
    "    if n == 1:\n",
    "        return 1\n",
    "    if n == 2:\n",
    "        return 1\n",
    "\n",
    "    if n in cache.keys():\n",
    "        return cache[n]\n",
    "\n",
    "    cache[n] = fibonacci(n-1) + fibonacci(n-2)\n",
    "    return cache[n]"
   ]
  },
  {
   "cell_type": "code",
   "execution_count": 5,
   "id": "6ee8fee7",
   "metadata": {},
   "outputs": [
    {
     "data": {
      "text/plain": [
       "55"
      ]
     },
     "execution_count": 5,
     "metadata": {},
     "output_type": "execute_result"
    }
   ],
   "source": [
    "fibonacci(10)"
   ]
  },
  {
   "cell_type": "code",
   "execution_count": 8,
   "id": "3b0b2a31",
   "metadata": {},
   "outputs": [],
   "source": [
    "def factorial(n):\n",
    "    if n == 0:\n",
    "        return 1\n",
    "    return n * factorial(n-1)"
   ]
  },
  {
   "cell_type": "code",
   "execution_count": 9,
   "id": "15bcd112",
   "metadata": {},
   "outputs": [
    {
     "data": {
      "text/plain": [
       "120"
      ]
     },
     "execution_count": 9,
     "metadata": {},
     "output_type": "execute_result"
    }
   ],
   "source": [
    "factorial(5)"
   ]
  },
  {
   "cell_type": "code",
   "execution_count": 10,
   "id": "77a87bdf",
   "metadata": {},
   "outputs": [
    {
     "data": {
      "text/plain": [
       "6765"
      ]
     },
     "execution_count": 10,
     "metadata": {},
     "output_type": "execute_result"
    }
   ],
   "source": [
    "fibonacci(20)"
   ]
  },
  {
   "cell_type": "code",
   "execution_count": null,
   "id": "9aa56a69",
   "metadata": {},
   "outputs": [],
   "source": [
    "## Top-Down Dynamic Programming (Use the same recursion, add a cache)\n",
    "\n",
    "cache  = dict() #Key is n (term), value is the solution\n",
    "def fibonacci(n):\n",
    "    ## Base Cases\n",
    "    if n == 1:\n",
    "        return 1\n",
    "    if n == 2:\n",
    "        return 1\n",
    "\n",
    "    if n in cache.keys():\n",
    "        return cache[n]\n",
    "\n",
    "    cache[n] = fibonacci(n-1) + fibonacci(n-2)\n",
    "    return cache[n]"
   ]
  },
  {
   "cell_type": "code",
   "execution_count": null,
   "id": "9b79e13d",
   "metadata": {},
   "outputs": [],
   "source": [
    "## Bottom-Up Approach: Take an iterative approach (Reduces the space in use)\n",
    "def fib(n):\n",
    "    ## Base Cases\n",
    "    if n == 1:\n",
    "        return 1\n",
    "    if n == 2:\n",
    "        return 1\n",
    "\n",
    "    a = 1\n",
    "    b = 1\n",
    "    ## Iterative solutions\n",
    "    for i in range(2,n):\n",
    "        c = a + b\n",
    "        a = b\n",
    "        b = c\n",
    "\n",
    "    return c\n"
   ]
  },
  {
   "cell_type": "code",
   "execution_count": 21,
   "id": "74645dee",
   "metadata": {},
   "outputs": [
    {
     "data": {
      "text/plain": [
       "33644764876431783266621612005107543310302148460680063906564769974680081442166662368155595513633734025582065332680836159373734790483865268263040892463056431887354544369559827491606602099884183933864652731300088830269235673613135117579297437854413752130520504347701602264758318906527890855154366159582987279682987510631200575428783453215515103870818298969791613127856265033195487140214287532698187962046936097879900350962302291026368131493195275630227837628441540360584402572114334961180023091208287046088923962328835461505776583271252546093591128203925285393434620904245248929403901706233888991085841065183173360437470737908552631764325733993712871937587746897479926305837065742830161637408969178426378624212835258112820516370298089332099905707920064367426202389783111470054074998459250360633560933883831923386783056136435351892133279732908133732642652633989763922723407882928177953580570993691049175470808931841056146322338217465637321248226383092103297701648054726243842374862411453093812206564914032751086643394517512161526545361333111314042436854805106765843493523836959653428071768775328348234345557366719731392746273629108210679280784718035329131176778924659089938635459327894523777674406192240337638674004021330343297496902028328145933418826817683893072003634795623117103101291953169794607632737589253530772552375943788434504067715555779056450443016640119462580972216729758615026968443146952034614932291105970676243268515992834709891284706740862008587135016260312071903172086094081298321581077282076353186624611278245537208532365305775956430072517744315051539600905168603220349163222640885248852433158051534849622434848299380905070483482449327453732624567755879089187190803662058009594743150052402532709746995318770724376825907419939632265984147498193609285223945039707165443156421328157688908058783183404917434556270520223564846495196112460268313970975069382648706613264507665074611512677522748621598642530711298441182622661057163515069260029861704945425047491378115154139941550671256271197133252763631939606902895650288268608362241082050562430701794976171121233066073310059947366875"
      ]
     },
     "execution_count": 21,
     "metadata": {},
     "output_type": "execute_result"
    }
   ],
   "source": [
    "fib(10000)"
   ]
  },
  {
   "cell_type": "code",
   "execution_count": 22,
   "id": "5c167bcd",
   "metadata": {},
   "outputs": [
    {
     "data": {
      "text/plain": [
       "43466557686937456435688527675040625802564660517371780402481729089536555417949051890403879840079255169295922593080322634775209689623239873322471161642996440906533187938298969649928516003704476137795166849228875"
      ]
     },
     "execution_count": 22,
     "metadata": {},
     "output_type": "execute_result"
    }
   ],
   "source": [
    "fibonacci(1000)"
   ]
  },
  {
   "cell_type": "code",
   "execution_count": 30,
   "id": "6216ac77",
   "metadata": {},
   "outputs": [],
   "source": [
    "cache = dict() ## Keys as the input array; value is the solution\n",
    "def steal(arr):\n",
    "    if len(arr) == 0:\n",
    "        return 0\n",
    "    ## Base Cases\n",
    "    if len(arr) == 1:\n",
    "        return arr[0]\n",
    "    if len(arr) == 2:\n",
    "        return max(arr[0],arr[1])\n",
    "\n",
    "    if tuple(arr) in cache.keys():\n",
    "        return cache[tuple(arr)]\n",
    "\n",
    "    a = arr[-1] + steal(arr[:-2])\n",
    "    b = steal(arr[:-1])\n",
    "    cache[tuple(arr)] = max(a,b)\n",
    "    return cache[tuple(arr)]"
   ]
  },
  {
   "cell_type": "code",
   "execution_count": null,
   "id": "47b3afab",
   "metadata": {},
   "outputs": [],
   "source": [
    "def linerob(lst):\n",
    "    if len(lst) == 0:\n",
    "        return None\n",
    "    a = lst[0]\n",
    "    if len(lst) == 1:\n",
    "        return a\n",
    "    b = max(lst[0], lst[1])\n",
    "    if len(lst) == 2:\n",
    "        return b\n",
    "    for i in range(2,len(lst)):\n",
    "        c = max(b,a+lst[i])\n",
    "        a = b\n",
    "        b = c\n",
    "    return c"
   ]
  },
  {
   "cell_type": "code",
   "execution_count": 31,
   "id": "a464f39f",
   "metadata": {},
   "outputs": [
    {
     "data": {
      "text/plain": [
       "12"
      ]
     },
     "execution_count": 31,
     "metadata": {},
     "output_type": "execute_result"
    }
   ],
   "source": [
    "steal([2,7,9,3,1])"
   ]
  }
 ],
 "metadata": {
  "kernelspec": {
   "display_name": "Python 3",
   "language": "python",
   "name": "python3"
  },
  "language_info": {
   "codemirror_mode": {
    "name": "ipython",
    "version": 3
   },
   "file_extension": ".py",
   "mimetype": "text/x-python",
   "name": "python",
   "nbconvert_exporter": "python",
   "pygments_lexer": "ipython3",
   "version": "3.11.4"
  }
 },
 "nbformat": 4,
 "nbformat_minor": 5
}
