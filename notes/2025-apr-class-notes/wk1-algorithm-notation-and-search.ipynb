{
 "cells": [
  {
   "cell_type": "markdown",
   "id": "4e607f5f",
   "metadata": {},
   "source": [
    "# Week 1: Algorithm Notation and Search Algorithms"
   ]
  },
  {
   "cell_type": "markdown",
   "id": "f1fa81d8",
   "metadata": {},
   "source": [
    "## Algorithm Notation (Big-O)\n",
    "Used to guage the performance of an algorithm by encoding its worst-case scnario. (Upper-bound performance of an algorithm). Let's focus on understanding Big-O Notation by looking at how we gauge the runtime complexity (speed) of algorithms."
   ]
  },
  {
   "cell_type": "code",
   "execution_count": 1,
   "id": "a69169d6",
   "metadata": {},
   "outputs": [
    {
     "name": "stdout",
     "output_type": "stream",
     "text": [
      "apple\n",
      "orange\n",
      "peach\n",
      "banana\n"
     ]
    }
   ],
   "source": [
    "fruits =  ['apple', 'orange', 'peach', 'banana'] #input of size n where in the length of the array\n",
    "\n",
    "for fruit in fruits: ## For loop will run n times\n",
    "    if fruit == 'banana': ## Loop breaks as soon as fruit is banana\n",
    "        print(fruit)\n",
    "        break\n",
    "    print(fruit)"
   ]
  },
  {
   "cell_type": "markdown",
   "id": "1566baad",
   "metadata": {},
   "source": [
    "In the code above, the number of operations will be `n` where `n` is the length of the array. However, if `banana` is found in the loop, the loop breaks. This means that more times than not, we won't reach the `n` operations. If `banana` is found in the first index, we'll only have one operation, if it is found in the third index, we'll have 3 operations, but in the worst-case scenario, it is not found or is found in the last index. In this scenario, the loop will run `n` times.\n",
    "For Big-O notation, we only care about the worst-case scenario despite all the better scenarios we could find. Therefore, this algorithm has a `O(n)` as its runtime complexity."
   ]
  },
  {
   "cell_type": "code",
   "execution_count": null,
   "id": "ba1c970c",
   "metadata": {},
   "outputs": [],
   "source": [
    "a = 3 ## n is size of integer\n",
    "for i in range(a):\n",
    "    print(i)"
   ]
  },
  {
   "cell_type": "code",
   "execution_count": null,
   "id": "5cbfa2f5",
   "metadata": {},
   "outputs": [],
   "source": [
    "name = 'zindua' ## n is length of array\n",
    "\n",
    "for char in name: ## Run n times\n",
    "    count += 1"
   ]
  },
  {
   "cell_type": "markdown",
   "id": "125aa2a8",
   "metadata": {},
   "source": [
    "Big-O notation is usually relative to the size of the input. In our first example, the size of the input was the length of the array. In the previous two code cells, we can see scenarios where **the size of an integer** and **the length of a string** are the input sizes. Therefore, both algorithms still have `O(n)` as their runtime complexity."
   ]
  },
  {
   "cell_type": "code",
   "execution_count": null,
   "id": "2ba9d232",
   "metadata": {},
   "outputs": [
    {
     "name": "stdout",
     "output_type": "stream",
     "text": [
      "12 24\n"
     ]
    }
   ],
   "source": [
    "name = \"rohinhlanhla\" ##length of string is n\n",
    "\n",
    "count = 0\n",
    "count2 = 0\n",
    "\n",
    "for char in name: ## Run n times\n",
    "    count += 1\n",
    "\n",
    "for char in name: ## Run n times\n",
    "    count2 += 1\n",
    "    \n",
    "print(count, count2) #constant time"
   ]
  },
  {
   "cell_type": "markdown",
   "id": "482631bc",
   "metadata": {},
   "source": [
    "In the previous code cell, we can see a scenario where we have two independent loops each running `n` times. The total number of operations will `2n` operations. However, in algorithmic notation, we usually ignore the coefficient, therefore, that code still has `O(n)` as its runtime complexity."
   ]
  },
  {
   "cell_type": "markdown",
   "id": "7620a489",
   "metadata": {},
   "source": [
    "### Runtime Complexity Examples"
   ]
  },
  {
   "cell_type": "markdown",
   "id": "5bedd183",
   "metadata": {},
   "source": [
    "Below, we have code with `constant time` runtime complexity. We encode this as `O(1)`. Essentially, the number of operations remain constant regardless of the size of the input. Whether the operation is 1 or there are two, three, or more operations, so long as they are constant, we denote it as `O(1)`"
   ]
  },
  {
   "cell_type": "code",
   "execution_count": null,
   "id": "7a245f06",
   "metadata": {},
   "outputs": [
    {
     "name": "stdout",
     "output_type": "stream",
     "text": [
      "cyrilagmdad mngfsfvbaskhf\n",
      "cyrilagmdad mngfsfvbaskhf\n"
     ]
    }
   ],
   "source": [
    "# O(1) – Constant time\n",
    "name = \"mngfsfvbaskhf\"\n",
    "\n",
    "print(name)\n",
    "print(name)"
   ]
  },
  {
   "cell_type": "markdown",
   "id": "0bc14cd0",
   "metadata": {},
   "source": [
    "We have seen the scenario below in our initial examples. The code has `linear time` runtime complexity also denoted as `O(n)`. Essentially, the number of operations increase linearly with the size of the input."
   ]
  },
  {
   "cell_type": "code",
   "execution_count": null,
   "id": "48a72227",
   "metadata": {},
   "outputs": [],
   "source": [
    "name = \"mngfsfvbaskhf\"\n",
    "count= 0\n",
    "\n",
    "for char in name: ## Run n times\n",
    "    count += 1\n",
    "\n",
    "print(n)"
   ]
  },
  {
   "cell_type": "code",
   "execution_count": null,
   "id": "29fcf806",
   "metadata": {},
   "outputs": [
    {
     "name": "stdout",
     "output_type": "stream",
     "text": [
      "1 times 1 is equal to 1\n",
      "1 times 2 is equal to 2\n",
      "1 times 3 is equal to 3\n",
      "1 times 4 is equal to 4\n",
      "1 times 5 is equal to 5\n",
      "2 times 1 is equal to 2\n",
      "2 times 2 is equal to 4\n",
      "2 times 3 is equal to 6\n",
      "2 times 4 is equal to 8\n",
      "2 times 5 is equal to 10\n",
      "3 times 1 is equal to 3\n",
      "3 times 2 is equal to 6\n",
      "3 times 3 is equal to 9\n",
      "3 times 4 is equal to 12\n",
      "3 times 5 is equal to 15\n",
      "4 times 1 is equal to 4\n",
      "4 times 2 is equal to 8\n",
      "4 times 3 is equal to 12\n",
      "4 times 4 is equal to 16\n",
      "4 times 5 is equal to 20\n",
      "5 times 1 is equal to 5\n",
      "5 times 2 is equal to 10\n",
      "5 times 3 is equal to 15\n",
      "5 times 4 is equal to 20\n",
      "5 times 5 is equal to 25\n"
     ]
    }
   ],
   "source": [
    "#O(n^2) – quadratic time\n",
    "\n",
    "n = 5\n",
    "\n",
    "for i in range(1, n+1): ## Runs n times\n",
    "    for j in range(1, n+1):\n",
    "        solution = i * j\n",
    "        print(f'{i} times {j} is equal to {solution}')"
   ]
  },
  {
   "cell_type": "code",
   "execution_count": null,
   "id": "b172ad79",
   "metadata": {},
   "outputs": [
    {
     "name": "stdout",
     "output_type": "stream",
     "text": [
      "0 0 0\n",
      "0 0 1\n",
      "0 0 2\n",
      "0 1 0\n",
      "0 1 1\n",
      "0 1 2\n",
      "0 2 0\n",
      "0 2 1\n",
      "0 2 2\n",
      "1 0 0\n",
      "1 0 1\n",
      "1 0 2\n",
      "1 1 0\n",
      "1 1 1\n",
      "1 1 2\n",
      "1 2 0\n",
      "1 2 1\n",
      "1 2 2\n",
      "2 0 0\n",
      "2 0 1\n",
      "2 0 2\n",
      "2 1 0\n",
      "2 1 1\n",
      "2 1 2\n",
      "2 2 0\n",
      "2 2 1\n",
      "2 2 2\n"
     ]
    },
    {
     "ename": "",
     "evalue": "",
     "output_type": "error",
     "traceback": [
      "\u001b[1;31mThe Kernel crashed while executing code in the current cell or a previous cell. \n",
      "\u001b[1;31mPlease review the code in the cell(s) to identify a possible cause of the failure. \n",
      "\u001b[1;31mClick <a href='https://aka.ms/vscodeJupyterKernelCrash'>here</a> for more info. \n",
      "\u001b[1;31mView Jupyter <a href='command:jupyter.viewOutput'>log</a> for further details."
     ]
    }
   ],
   "source": [
    "#O(n^3) - Cubic time (Polynomial time O(n^k))\n",
    "a = 3\n",
    "for i in range(a):\n",
    "    for j in range(a):\n",
    "        for k in range(a):\n",
    "            print(i,j,k)"
   ]
  },
  {
   "cell_type": "code",
   "execution_count": null,
   "id": "f9b0d7b6",
   "metadata": {},
   "outputs": [],
   "source": [
    "a = 10000000000000000000000\n",
    "arr = list()\n",
    "\n",
    "for i in range(a):\n",
    "    arr.append(i)\n",
    "\n",
    "\n",
    "## O(n)"
   ]
  },
  {
   "cell_type": "code",
   "execution_count": null,
   "id": "0d274716",
   "metadata": {},
   "outputs": [],
   "source": [
    "## Search Algorithms (Linear Search and Binary Search)\n",
    "\n",
    "[2,3,4,5,7,9,10], 9"
   ]
  }
 ],
 "metadata": {
  "kernelspec": {
   "display_name": "Python 3",
   "language": "python",
   "name": "python3"
  },
  "language_info": {
   "codemirror_mode": {
    "name": "ipython",
    "version": 3
   },
   "file_extension": ".py",
   "mimetype": "text/x-python",
   "name": "python",
   "nbconvert_exporter": "python",
   "pygments_lexer": "ipython3",
   "version": "3.11.4"
  }
 },
 "nbformat": 4,
 "nbformat_minor": 5
}
