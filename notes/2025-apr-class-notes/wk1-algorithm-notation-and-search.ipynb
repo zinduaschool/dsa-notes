{
 "cells": [
  {
   "cell_type": "markdown",
   "id": "4e607f5f",
   "metadata": {},
   "source": [
    "# Week 1: Algorithm Notation and Search Algorithms"
   ]
  },
  {
   "cell_type": "markdown",
   "id": "f1fa81d8",
   "metadata": {},
   "source": [
    "## Algorithm Notation (Big-O)\n",
    "Used to guage the performance of an algorithm by encoding its worst-case scnario. (Upper-bound performance of an algorithm). Let's focus on understanding Big-O Notation by looking at how we gauge the runtime complexity (speed) of algorithms."
   ]
  },
  {
   "cell_type": "code",
   "execution_count": 1,
   "id": "a69169d6",
   "metadata": {},
   "outputs": [
    {
     "name": "stdout",
     "output_type": "stream",
     "text": [
      "apple\n",
      "orange\n",
      "peach\n",
      "banana\n"
     ]
    }
   ],
   "source": [
    "fruits =  ['apple', 'orange', 'peach', 'banana'] #input of size n where in the length of the array\n",
    "\n",
    "for fruit in fruits: ## For loop will run n times\n",
    "    if fruit == 'banana': ## Loop breaks as soon as fruit is banana\n",
    "        print(fruit)\n",
    "        break\n",
    "    print(fruit)"
   ]
  },
  {
   "cell_type": "markdown",
   "id": "1566baad",
   "metadata": {},
   "source": [
    "In the code above, the number of operations will be `n` where `n` is the length of the array. However, if `banana` is found in the loop, the loop breaks. This means that more times than not, we won't reach the `n` operations. If `banana` is found in the first index, we'll only have one operation, if it is found in the third index, we'll have 3 operations, but in the worst-case scenario, it is not found or is found in the last index. In this scenario, the loop will run `n` times.\n",
    "For Big-O notation, we only care about the worst-case scenario despite all the better scenarios we could find. Therefore, this algorithm has a `O(n)` as its runtime complexity."
   ]
  },
  {
   "cell_type": "code",
   "execution_count": null,
   "id": "ba1c970c",
   "metadata": {},
   "outputs": [
    {
     "name": "stdout",
     "output_type": "stream",
     "text": [
      "0\n",
      "1\n",
      "2\n"
     ]
    }
   ],
   "source": [
    "a = 3 ## n is size of integer\n",
    "for i in range(a):\n",
    "    print(i)"
   ]
  },
  {
   "cell_type": "code",
   "execution_count": 4,
   "id": "5cbfa2f5",
   "metadata": {},
   "outputs": [],
   "source": [
    "name = 'zindua' ## n is length of array\n",
    "count = 0\n",
    "\n",
    "for char in name: ## Run n times\n",
    "    count += 1"
   ]
  },
  {
   "cell_type": "markdown",
   "id": "125aa2a8",
   "metadata": {},
   "source": [
    "Big-O notation is usually relative to the size of the input. In our first example, the size of the input was the length of the array. In the previous two code cells, we can see scenarios where **the size of an integer** and **the length of a string** are the input sizes. Therefore, both algorithms still have `O(n)` as their runtime complexity."
   ]
  },
  {
   "cell_type": "code",
   "execution_count": 5,
   "id": "2ba9d232",
   "metadata": {},
   "outputs": [
    {
     "name": "stdout",
     "output_type": "stream",
     "text": [
      "12 12\n"
     ]
    }
   ],
   "source": [
    "name = \"rohinhlanhla\" ##length of string is n\n",
    "\n",
    "count = 0\n",
    "count2 = 0\n",
    "\n",
    "for char in name: ## Run n times\n",
    "    count += 1\n",
    "\n",
    "for char in name: ## Run n times\n",
    "    count2 += 1\n",
    "    \n",
    "print(count, count2) #constant time"
   ]
  },
  {
   "cell_type": "markdown",
   "id": "482631bc",
   "metadata": {},
   "source": [
    "In the previous code cell, we can see a scenario where we have two independent loops each running `n` times. The total number of operations will `2n` operations. However, in algorithmic notation, we usually ignore the coefficient, therefore, that code still has `O(n)` as its runtime complexity."
   ]
  },
  {
   "cell_type": "markdown",
   "id": "7620a489",
   "metadata": {},
   "source": [
    "### Runtime Complexity Examples"
   ]
  },
  {
   "cell_type": "markdown",
   "id": "5bedd183",
   "metadata": {},
   "source": [
    "Below, we have code with `constant time` runtime complexity. We encode this as `O(1)`. Essentially, the number of operations remain constant regardless of the size of the input. Whether the operation is 1 or there are two, three, or more operations, so long as they are constant, we denote it as `O(1)`"
   ]
  },
  {
   "cell_type": "code",
   "execution_count": 6,
   "id": "7a245f06",
   "metadata": {},
   "outputs": [
    {
     "name": "stdout",
     "output_type": "stream",
     "text": [
      "mngfsfvbaskhf\n",
      "mngfsfvbaskhf\n"
     ]
    }
   ],
   "source": [
    "# O(1) – Constant time\n",
    "name = \"mngfsfvbaskhf\"\n",
    "\n",
    "print(name)\n",
    "print(name)"
   ]
  },
  {
   "cell_type": "markdown",
   "id": "0bc14cd0",
   "metadata": {},
   "source": [
    "We have seen the scenario below in our initial examples. The code has `linear time` runtime complexity also denoted as `O(n)`. Essentially, the number of operations increase linearly with the size of the input."
   ]
  },
  {
   "cell_type": "code",
   "execution_count": 8,
   "id": "48a72227",
   "metadata": {},
   "outputs": [
    {
     "name": "stdout",
     "output_type": "stream",
     "text": [
      "13\n"
     ]
    }
   ],
   "source": [
    "name = \"mngfsfvbaskhf\"\n",
    "count= 0\n",
    "\n",
    "for char in name: ## Run n times\n",
    "    count += 1\n",
    "\n",
    "print(count)"
   ]
  },
  {
   "cell_type": "markdown",
   "id": "97f98e2d",
   "metadata": {},
   "source": [
    "In case we have a loop within a loop, we have `quadratic time` also denoted as `O(n^2)`. See example below:"
   ]
  },
  {
   "cell_type": "code",
   "execution_count": 1,
   "id": "29fcf806",
   "metadata": {},
   "outputs": [
    {
     "name": "stdout",
     "output_type": "stream",
     "text": [
      "1 times 1 is equal to 1\n",
      "1 times 2 is equal to 2\n",
      "1 times 3 is equal to 3\n",
      "2 times 1 is equal to 2\n",
      "2 times 2 is equal to 4\n",
      "2 times 3 is equal to 6\n",
      "3 times 1 is equal to 3\n",
      "3 times 2 is equal to 6\n",
      "3 times 3 is equal to 9\n"
     ]
    }
   ],
   "source": [
    "## Multiplication tables of n\n",
    "n = 3\n",
    "\n",
    "for i in range(1, n+1): ## Runs n times\n",
    "    for j in range(1, n+1):\n",
    "        solution = i * j\n",
    "        print(f'{i} times {j} is equal to {solution}')"
   ]
  },
  {
   "cell_type": "markdown",
   "id": "15e47598",
   "metadata": {},
   "source": [
    "We can take it further, if we have a loop within a loop within another loop as seen below, then `O(n^3)` is our runtime complexity or `cubic time`. See example below.\n",
    "Note, that whenever we have `O(n^k)` where `n` is the size of the input and `k` is a constant, we call that `polynomial time`. Of course, the larger, the `k` the worse the performance."
   ]
  },
  {
   "cell_type": "code",
   "execution_count": 10,
   "id": "b172ad79",
   "metadata": {},
   "outputs": [
    {
     "name": "stdout",
     "output_type": "stream",
     "text": [
      "0 0 0\n",
      "0 0 1\n",
      "0 0 2\n",
      "0 1 0\n",
      "0 1 1\n",
      "0 1 2\n",
      "0 2 0\n",
      "0 2 1\n",
      "0 2 2\n",
      "1 0 0\n",
      "1 0 1\n",
      "1 0 2\n",
      "1 1 0\n",
      "1 1 1\n",
      "1 1 2\n",
      "1 2 0\n",
      "1 2 1\n",
      "1 2 2\n",
      "2 0 0\n",
      "2 0 1\n",
      "2 0 2\n",
      "2 1 0\n",
      "2 1 1\n",
      "2 1 2\n",
      "2 2 0\n",
      "2 2 1\n",
      "2 2 2\n"
     ]
    }
   ],
   "source": [
    "#O(n^3) - Cubic time (Polynomial time O(n^k))\n",
    "a = 3\n",
    "for i in range(a):\n",
    "    for j in range(a):\n",
    "        for k in range(a):\n",
    "            print(i,j,k)"
   ]
  },
  {
   "cell_type": "markdown",
   "id": "d43c8cf6",
   "metadata": {},
   "source": [
    "There's more runtime complexities for us to explore and we'll see them as we go through the course. Here is the list from best performance to worst performance: (`n` is the size of input and `k` is the constant)\n",
    "- Constant Time `O(1)`\n",
    "- Logarithmic Time `O(log n)`\n",
    "- Linear Time `O(n)`\n",
    "- Linearithmic Time `O(n log n)`\n",
    "- Polynomial Time `O(n^2)` or `O(n^k)`\n",
    "- Exponential Time `O(2^n)` or `O(k^n)` \n",
    "- Factorial Time `O(n!)`\n",
    "We'll explore other runtime complexities as we present different types of algorithms across the course. See this diagram of their performance: ([Sourced from FreeCodeCamp](https://www.freecodecamp.org/news/big-o-notation-why-it-matters-and-why-it-doesnt-1674cfa8a23c/))\n",
    "\n",
    "![Time Complexity Chart](https://www.freecodecamp.org/news/content/images/2021/06/1_KfZYFUT2OKfjekJlCeYvuQ.jpeg)"
   ]
  },
  {
   "cell_type": "markdown",
   "id": "24c61716",
   "metadata": {},
   "source": [
    "### Special Examples: Numerous Loops\n",
    "Now that you understand different time complexities, let's look at an advanced algorithm scenario and see what its runtime complexity will be:"
   ]
  },
  {
   "cell_type": "code",
   "execution_count": null,
   "id": "70e34b6c",
   "metadata": {},
   "outputs": [
    {
     "name": "stdout",
     "output_type": "stream",
     "text": [
      "0 0 0\n",
      "0 0 1\n",
      "0 0 2\n",
      "0 1 0\n",
      "0 1 1\n",
      "0 1 2\n",
      "0 2 0\n",
      "0 2 1\n",
      "0 2 2\n",
      "1 0 0\n",
      "1 0 1\n",
      "1 0 2\n",
      "1 1 0\n",
      "1 1 1\n",
      "1 1 2\n",
      "1 2 0\n",
      "1 2 1\n",
      "1 2 2\n",
      "2 0 0\n",
      "2 0 1\n",
      "2 0 2\n",
      "2 1 0\n",
      "2 1 1\n",
      "2 1 2\n",
      "2 2 0\n",
      "2 2 1\n",
      "2 2 2\n",
      "2 0 0\n",
      "2 0 1\n",
      "2 0 2\n",
      "2 1 0\n",
      "2 1 1\n",
      "2 1 2\n",
      "2 2 0\n",
      "2 2 1\n",
      "2 2 2\n"
     ]
    }
   ],
   "source": [
    "a = 3\n",
    "\n",
    "### Runs n^3 times\n",
    "for i in range(a):\n",
    "    for j in range(a):\n",
    "        for k in range(a):\n",
    "            print(i,j,k)\n",
    "\n",
    "### Runs n^2 times\n",
    "for j in range(a):\n",
    "    for k in range(a):\n",
    "        print(i,j,k)\n",
    "\n",
    "### Runs n^2 times again\n",
    "for j in range(a):\n",
    "    for k in range(a):\n",
    "        print(i,j,k)\n",
    "\n",
    "### Runs n times\n",
    "for k in range(a):\n",
    "    print(i,j,k)"
   ]
  },
  {
   "cell_type": "markdown",
   "id": "f8b570cd",
   "metadata": {},
   "source": [
    "In the code above, the number of operations will be `n^3 + 2n^2 + n`. However, in algorithmic notation, we only focus on the largest term (as n approaches infinity, the smaller terms will not matter). Therefore, the big-O notation will still be `O(n^3)`"
   ]
  },
  {
   "cell_type": "markdown",
   "id": "9607de76",
   "metadata": {},
   "source": [
    "### Space Complexity\n",
    "Runtime (speed) is not the only thing we optimise for, space/memory is also a scarce resource that we care about significantly. In the code below we can see twoio scenarios of a function with a space complexity of `O(1)` or `constant space` and `O(n)` or `linear space`."
   ]
  },
  {
   "cell_type": "code",
   "execution_count": 13,
   "id": "12bd2462",
   "metadata": {},
   "outputs": [
    {
     "name": "stdout",
     "output_type": "stream",
     "text": [
      "10\n"
     ]
    }
   ],
   "source": [
    "##Constant space – only one item created in memory. It doesn't increase even as n increases the store is the same\n",
    "n = 5 ##input\n",
    "sum_ = 0\n",
    "\n",
    "for i in range(n):\n",
    "    sum_ += i\n",
    "\n",
    "print(sum_)"
   ]
  },
  {
   "cell_type": "code",
   "execution_count": 15,
   "id": "aeae21a8",
   "metadata": {},
   "outputs": [
    {
     "name": "stdout",
     "output_type": "stream",
     "text": [
      "[0, 1, 2, 3, 4]\n"
     ]
    }
   ],
   "source": [
    "### Linear space – the size of the array increases linearly with the size of the input\n",
    "n = 5 ##input\n",
    "arr = list()\n",
    "\n",
    "for i in range(n):\n",
    "    arr.append(i)\n",
    "\n",
    "print(arr)"
   ]
  },
  {
   "cell_type": "markdown",
   "id": "d32fc33d",
   "metadata": {},
   "source": [
    "## Summary\n",
    "- Big-O denotes the worst case performance of an algorithm\n",
    "- Big-O essentially denotes the performance of an algorithm relative to the size of the input\n",
    "- The size of the input could be the length of an array, the size of an integer, the length of a string, etc.\n",
    "- If an algorithm has `2n` operations, the performance is `O(n)`. We always ignore coefficients\n",
    "- If an algorithm has `n^4 + 3n^2 + 25` operations, the performance is `O(n^4)`, we focus on the largest term only\n",
    "- We have exploreed the following runtime complexities: `constant time`, `linear time`, and `polynomial time`\n",
    "- Runtime/speed is not the only thing we optimise code for, space/memory is also gauged with the Big-O notation"
   ]
  },
  {
   "cell_type": "markdown",
   "id": "95393f00",
   "metadata": {},
   "source": [
    "### Post-Class Challenge\n",
    "Go to Hackerrank and attempt the `Valid Palindrome` challenge."
   ]
  },
  {
   "cell_type": "markdown",
   "id": "2f6aceeb",
   "metadata": {},
   "source": [
    "## Search Algorithms"
   ]
  },
  {
   "cell_type": "markdown",
   "id": "045b5bc1",
   "metadata": {},
   "source": [
    "### Linear Search\n",
    "Worst-case scenarion `O(n)`. Works for both sorted and unsorted arrays."
   ]
  },
  {
   "cell_type": "code",
   "execution_count": 5,
   "id": "0d274716",
   "metadata": {},
   "outputs": [
    {
     "data": {
      "text/plain": [
       "5"
      ]
     },
     "execution_count": 5,
     "metadata": {},
     "output_type": "execute_result"
    }
   ],
   "source": [
    "def search(arr, target):\n",
    "    \n",
    "    for i in range(len(arr)):\n",
    "        if arr[i] == target:\n",
    "            return i\n",
    "    \n",
    "    return -1\n",
    "\n",
    "\n",
    "\n",
    "arr = [3,23,34,45,56,78,98,101,120]\n",
    "target = 78\n",
    "search(arr, target)"
   ]
  },
  {
   "cell_type": "markdown",
   "id": "612d5da7",
   "metadata": {},
   "source": [
    "### Binary Search\n",
    "`O(log n)` as runtime complexity, this only works on sorted arrays."
   ]
  },
  {
   "cell_type": "code",
   "execution_count": 15,
   "id": "fa5b80f1",
   "metadata": {},
   "outputs": [
    {
     "data": {
      "text/plain": [
       "-1"
      ]
     },
     "execution_count": 15,
     "metadata": {},
     "output_type": "execute_result"
    }
   ],
   "source": [
    "def binarysearch(arr, target):\n",
    "    start = 0\n",
    "    stop = len(arr)-1\n",
    "\n",
    "    while stop >= start:\n",
    "        mid = (stop + start)//2\n",
    "\n",
    "        if target == arr[mid]:\n",
    "            return mid\n",
    "        \n",
    "        if target > arr[mid]:\n",
    "            start = mid + 1\n",
    "        else:\n",
    "            stop = mid - 1\n",
    "\n",
    "    return -1\n",
    "\n",
    "\n",
    "arr = [3,23,34,45,56,78,98,101,120]\n",
    "target = 51\n",
    "binarysearch(arr, target)"
   ]
  },
  {
   "cell_type": "markdown",
   "id": "a47cbd7c",
   "metadata": {},
   "source": [
    "### Interpolation Search\n",
    "`O(log log n)` on average if we use a uniform distribution. `O(n)` is the worst case scenario. [Read more about it here](https://medium.com/@codechuckle/unlocking-the-power-of-interpolation-search-a-comprehensive-guide-b5c8fd1bd39a)"
   ]
  },
  {
   "cell_type": "markdown",
   "id": "f2f495f6",
   "metadata": {},
   "source": [
    "### Post-Class Challenge\n",
    "Go to Hackerrank and attempt the `Two Sum (Array Search)` challenge. This should prepare you for the next class lesson"
   ]
  }
 ],
 "metadata": {
  "kernelspec": {
   "display_name": "Python 3",
   "language": "python",
   "name": "python3"
  },
  "language_info": {
   "codemirror_mode": {
    "name": "ipython",
    "version": 3
   },
   "file_extension": ".py",
   "mimetype": "text/x-python",
   "name": "python",
   "nbconvert_exporter": "python",
   "pygments_lexer": "ipython3",
   "version": "3.11.4"
  }
 },
 "nbformat": 4,
 "nbformat_minor": 5
}
