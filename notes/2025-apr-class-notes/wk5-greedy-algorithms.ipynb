{
 "cells": [
  {
   "cell_type": "markdown",
   "id": "aa081aa6",
   "metadata": {},
   "source": [
    "# Greedy Algorithms"
   ]
  },
  {
   "cell_type": "code",
   "execution_count": 5,
   "id": "0f041645",
   "metadata": {},
   "outputs": [
    {
     "data": {
      "text/plain": [
       "5"
      ]
     },
     "execution_count": 5,
     "metadata": {},
     "output_type": "execute_result"
    }
   ],
   "source": [
    "### Build an algorithm to determine the most jobs one can do in a given time\n",
    "def mostjobs(time, jobs):\n",
    "    jobs = sorted(jobs)\n",
    "    completed = 0\n",
    "\n",
    "    while time > 0:\n",
    "        if jobs[0] > time:\n",
    "            return completed\n",
    "        else:\n",
    "            time -= jobs[0]\n",
    "            completed += 1\n",
    "            jobs = jobs[1:]\n",
    "\n",
    "    return completed\n",
    "            \n",
    "\n",
    "time = 100\n",
    "jobs = [10, 56, 23, 56, 32, 12, 34, 21]\n",
    "mostjobs(time, jobs)"
   ]
  }
 ],
 "metadata": {
  "kernelspec": {
   "display_name": "Python 3",
   "language": "python",
   "name": "python3"
  },
  "language_info": {
   "codemirror_mode": {
    "name": "ipython",
    "version": 3
   },
   "file_extension": ".py",
   "mimetype": "text/x-python",
   "name": "python",
   "nbconvert_exporter": "python",
   "pygments_lexer": "ipython3",
   "version": "3.11.4"
  }
 },
 "nbformat": 4,
 "nbformat_minor": 5
}
