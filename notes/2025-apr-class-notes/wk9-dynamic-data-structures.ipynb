{
 "cells": [
  {
   "cell_type": "markdown",
   "metadata": {},
   "source": [
    "# Week 9: Dynamic Data Structures"
   ]
  },
  {
   "cell_type": "markdown",
   "metadata": {},
   "source": [
    "## Trees\n",
    "\n",
    "**Tree data structure** is a hierarchical structure that is used to represent and organize data in the form of parent child relationship.\n",
    "\n",
    "### Basic Terminologies In Tree Data Structure:\n",
    "\n",
    "- **Parent Node:** The node which is an immediate predecessor of a node is called the parent node of that node.\n",
    "- **Child Node:** The node which is the immediate successor of a node is called the child node of that node. \n",
    "- **Root Node:** The topmost node of a tree or the node which does not have any parent node is called the root node.A non-empty tree must contain exactly one root node and exactly one path from the root to all other nodes of the tree.\n",
    "- **Leaf Node:** The nodes which do not have any child nodes are called leaf nodes. \n",
    "- **Sibling:** Children of the same parent node are called siblings.\n",
    "- **Level of a node:** The count of edges on the path from the root node to that node. The root node has level **0**.\n",
    "- **Subtree**: Any node of the tree along with its descendant.\n",
    "\n",
    "### Types of Tree data structures:\n",
    "\n",
    "Tree data structure can be classified into three types based upon the number of children each node of the tree can have. The types are:\n",
    "\n",
    "- **Binary Tree:** In a binary tree, each node can have a maximum of two children linked to it.\n",
    "- **Ternary Tree:** A Ternary Tree is a tree data structure in which each node has at most three child nodes, usually distinguished as “left”, “mid” and “right”.\n",
    "- **N-ary Tree or Generic Tree:** Generic trees are a collection of nodes where each node is a data structure that consists of records and a list of references to its children(duplicate references are not allowed).\n",
    "\n",
    "### Properties of Tree Data Structure:\n",
    "\n",
    "- **Number of edges:** An edge can be defined as the connection between two nodes. If a tree has N nodes then it will have (N-1) edges. There is only one path from each node to any other node of the tree.\n",
    "- **Depth of a node:** The depth of a node is defined as the length of the path from the root to that node. Each edge adds 1 unit of length to the path. So, it can also be defined as the number of edges in the path from the root of the tree to the node.\n",
    "- **Height of a node:** The height of a node can be defined as the length of the longest path from the node to a leaf node of the tree.\n",
    "- **Height of the Tree:** The height of a tree is the length of the longest path from the root of the tree to a leaf node of the tree.\n",
    "\n",
    "### Basic Operations Of Tree Data Structure:\n",
    "\n",
    "- **Create** – create a tree in the data structure.\n",
    "- **Insert** − Inserts data in a tree.\n",
    "- **Delete** - delete data in a tree.\n",
    "- **Search** − Searches specific data in a tree to check whether it is present or not.\n",
    "- **Traversal** - print each node in the tree at least once"
   ]
  },
  {
   "cell_type": "markdown",
   "metadata": {},
   "source": [
    "### Tree Traversal Techniques\n",
    "\n",
    "- Inorder traversal - Left → Root → Right - Sorting a BST"
   ]
  },
  {
   "cell_type": "code",
   "execution_count": 3,
   "metadata": {},
   "outputs": [],
   "source": [
    "class Node:\n",
    "    def __init__(self, value):\n",
    "        self.data = value\n",
    "        self.right = None\n",
    "        self.left = None\n",
    "def inorder(node):\n",
    "    if node is None:\n",
    "        return 0\n",
    "    inorder(node.left)\n",
    "    print(node.data, end=\" \")\n",
    "    inorder(node.right)"
   ]
  },
  {
   "cell_type": "markdown",
   "metadata": {},
   "source": [
    "- Preorder traversal - Root → Left → Right - Copying a tree"
   ]
  },
  {
   "cell_type": "code",
   "execution_count": 1,
   "metadata": {},
   "outputs": [],
   "source": [
    "def preorder(node):\n",
    "    if node is None:\n",
    "        return 0\n",
    "    print(node.data, end=\" \")\n",
    "    preorder(node.left)\n",
    "    preorder(node.right)"
   ]
  },
  {
   "cell_type": "markdown",
   "metadata": {},
   "source": [
    "- Postorder traversal - Left → Right → Root - Deleting files"
   ]
  },
  {
   "cell_type": "code",
   "execution_count": 2,
   "metadata": {},
   "outputs": [],
   "source": [
    "def postorder(node):\n",
    "    if node is None:\n",
    "        return 0\n",
    "    postorder(node.left)\n",
    "    postorder(node.right)\n",
    "    print(node.data, end=\" \")"
   ]
  }
 ],
 "metadata": {
  "kernelspec": {
   "display_name": "Python 3",
   "language": "python",
   "name": "python3"
  },
  "language_info": {
   "codemirror_mode": {
    "name": "ipython",
    "version": 3
   },
   "file_extension": ".py",
   "mimetype": "text/x-python",
   "name": "python",
   "nbconvert_exporter": "python",
   "pygments_lexer": "ipython3",
   "version": "3.13.2"
  }
 },
 "nbformat": 4,
 "nbformat_minor": 2
}
