{
 "cells": [
  {
   "cell_type": "markdown",
   "metadata": {},
   "source": [
    "# Week 3: Linear Data Structures"
   ]
  },
  {
   "cell_type": "markdown",
   "metadata": {},
   "source": [
    "## Introduction to Data Structures\n",
    "Data Structure - in simple terms is a way of storing data when programming. A data storage format. Organized ways to store and manipulate data.\n",
    "\n",
    "They are important because they enable efficient data operations like insertion, deletion, traversal, searching and sorting.\n",
    "\n",
    "### Types of Data Structures\n",
    "\n",
    "1. **Linear Data Structures**\n",
    "    \n",
    "    Store data sequentially\n",
    "    \n",
    "    *include: arrays, linked lists, stacks queues*\n",
    "    \n",
    "2. **Non-linear data structures**\n",
    "    \n",
    "    Store data in a hierarchical manner\n",
    "    \n",
    "    *include: graphs, trees*\n",
    "\n",
    "## Arrays\n",
    "**Arrays** - a data structure that stores a collection of values with the same data type in contiguous memory locations.\n",
    "\n",
    "Arrays are accessed via index making access efficient in O(1) time.\n",
    "### Static Arrays\n",
    "\n",
    "It is an array for which the size or length is determined when the array is created and/or allocated.\n",
    "\n",
    "For this reason, they may also be referred to as fixed-length arrays or fixed arrays.\n",
    "\n",
    "We cannot alter or update the size of this array. \n",
    "\n",
    "Static arrays often come into play when working with a strictly typed language like Java, C#, or C++.\n",
    "\n",
    "Only a fixed size (the size that is mentioned in square brackets **[]**) of memory will be allocated for storage. In case, we don’t know the size of the array then if we declare a larger size and store a lesser number of elements will result in a wastage of memory or we declare a lesser size than the number of elements then we won’t get enough memory to store all the elements. In such cases, static memory allocation is not preferred.\n",
    "\n",
    "### Dynamic Arrays\n",
    "\n",
    "Dynamic arrays differ from static arrays in that they don’t have a fixed size.\n",
    "\n",
    "We don’t have to specify a size upon initialization.\n",
    "\n",
    "In languages like JavaScript, Ruby and Python, dynamic arrays are the default type.\n",
    "\n",
    "These arrays are resized dynamically by the operating system, and when they become filled, you usually don’t have to worry about manually resizing them as they will automatically expand to accommodate more elements. This is usually by doubling itself. For example, if its size defaulted to 10 indices then it would double to 20.\n",
    "\n",
    "Let’s take a closer look at how it does this:\n",
    "\n",
    "1. When you allocate a dynamic array your language of choice will make a static array with a set size. Let’s say that this size is 10.\n",
    "2. Let’s say you go to append an 11th item to your array. This will make your array run out of space causing it to create a bigger array that’s double its size (20).\n",
    "3. After this the old array of size 10 needs to copy all of its values over to the bigger array that has a size of 20.\n",
    "4. Now the old array will tell your OS to delete it making that memory free memory.\n",
    "5. Finally, the bigger array of size 20 will now append your 11th item to it.\n",
    "\n",
    "### Array Operations\n",
    "| Operation | Time Complexity |\n",
    "| --- | --- |\n",
    "| Access | O(1) |\n",
    "| Traversing | O(n) |\n",
    "| Deleting (at the end) | O(1) |\n",
    "| Deleting (at specific index) | O(n) |\n",
    "| Inserting (at the end) | O(1) |\n",
    "| Inserting (at a specific index) | O(n) |"
   ]
  },
  {
   "cell_type": "code",
   "execution_count": 2,
   "metadata": {},
   "outputs": [
    {
     "name": "stdout",
     "output_type": "stream",
     "text": [
      "45\n",
      "3\n",
      "10\n",
      "21\n",
      "39\n",
      "54\n",
      "34\n"
     ]
    },
    {
     "data": {
      "text/plain": [
       "34"
      ]
     },
     "execution_count": 2,
     "metadata": {},
     "output_type": "execute_result"
    }
   ],
   "source": [
    "my_array = [45, 3, 10, 39, 54]\n",
    "my_array.append(34) #Inserting at end\n",
    "my_array.insert(3, 21) #Inserting at specific index\n",
    "\n",
    "for num in my_array: #Traversal\n",
    "    print(num)\n",
    "    \n",
    "my_array.pop() #Deleting item at end"
   ]
  },
  {
   "cell_type": "markdown",
   "metadata": {},
   "source": [
    "## Hashmap\n",
    "\n",
    "At its core, a hashmap is a data structure that implements an associative array abstract data type, a structure that can map keys to values. A hashmap uses a hash function to compute an index into an array of buckets or slots, from which the desired value can be found.\n",
    "\n",
    "### **Understanding Hashing**\n",
    "\n",
    "Hashing is the process of converting an input (or ‘key’) into a fixed-size string of bytes, usually a hash value. The hash function is designed to transform the key into a hash that represents a specific index in our array of buckets. The beauty of a hashmap lies in this direct indexing, which allows for fast data retrieval, akin to accessing a book directly from its index rather than leafing through every page.\n",
    "\n",
    "### **Hashmaps in Python: The `dict`**\n",
    "\n",
    "Python implements hashmaps through its built-in dictionary data type, `dict`. This implementation allows for rapid data storage and retrieval by key, without the need to maintain an ordered sequence of elements.\n",
    "\n",
    "### **Working with Python Dictionaries**\n",
    "\n",
    "**Creation**\n",
    "\n",
    "Creating a dictionary in Python is straightforward:"
   ]
  },
  {
   "cell_type": "code",
   "execution_count": 3,
   "metadata": {},
   "outputs": [],
   "source": [
    "capitals = {'Madrid': 'Spain', 'Lisbon': 'Portugal', 'London': 'United Kingdom'}"
   ]
  },
  {
   "cell_type": "markdown",
   "metadata": {},
   "source": [
    "This dictionary maps capital cities to their respective countries.\n",
    "\n",
    "**Accessing Data**\n",
    "\n",
    "To access data, you simply use the key:"
   ]
  },
  {
   "cell_type": "code",
   "execution_count": 4,
   "metadata": {},
   "outputs": [
    {
     "name": "stdout",
     "output_type": "stream",
     "text": [
      "Spain\n"
     ]
    }
   ],
   "source": [
    "print(capitals['Madrid'])  # Output: Spain"
   ]
  },
  {
   "cell_type": "markdown",
   "metadata": {},
   "source": [
    "Python’s `dict.get(key)` method allows for safe retrieval by returning `None` if the key doesn’t exist, avoiding a KeyError.\n",
    "\n",
    "**Modifying Data**\n",
    "\n",
    "Dictionaries are mutable, allowing for dynamic data manipulation:"
   ]
  },
  {
   "cell_type": "code",
   "execution_count": 5,
   "metadata": {},
   "outputs": [],
   "source": [
    "capitals['Berlin'] = 'Germany'  # Adding a new key-value pair\n",
    "del capitals['Lisbon']  # Deleting a key-value pair"
   ]
  },
  {
   "cell_type": "markdown",
   "metadata": {},
   "source": [
    "**Iterating Over a Dictionary**\n",
    "\n",
    "Dictionaries can be iterated over to retrieve keys, values, or both:"
   ]
  },
  {
   "cell_type": "code",
   "execution_count": 6,
   "metadata": {},
   "outputs": [
    {
     "name": "stdout",
     "output_type": "stream",
     "text": [
      "The capital of Spain is Madrid.\n",
      "The capital of United Kingdom is London.\n",
      "The capital of Germany is Berlin.\n"
     ]
    }
   ],
   "source": [
    "for capital, country in capitals.items():\n",
    "    print(f\"The capital of {country} is {capital}.\")"
   ]
  }
 ],
 "metadata": {
  "kernelspec": {
   "display_name": "Python 3",
   "language": "python",
   "name": "python3"
  },
  "language_info": {
   "codemirror_mode": {
    "name": "ipython",
    "version": 3
   },
   "file_extension": ".py",
   "mimetype": "text/x-python",
   "name": "python",
   "nbconvert_exporter": "python",
   "pygments_lexer": "ipython3",
   "version": "3.13.2"
  }
 },
 "nbformat": 4,
 "nbformat_minor": 2
}
