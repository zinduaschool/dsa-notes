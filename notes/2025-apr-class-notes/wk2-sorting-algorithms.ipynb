{
 "cells": [
  {
   "cell_type": "markdown",
   "id": "6585ce7e",
   "metadata": {},
   "source": [
    "# Week 2: Sorting Algorithms"
   ]
  },
  {
   "cell_type": "markdown",
   "id": "f3bb6551",
   "metadata": {},
   "source": [
    "## Selection Sort"
   ]
  },
  {
   "cell_type": "code",
   "execution_count": null,
   "id": "ea613819",
   "metadata": {},
   "outputs": [
    {
     "data": {
      "text/plain": [
       "[1, 6, 8, 12, 12, 31, 34, 54, 101]"
      ]
     },
     "execution_count": 4,
     "metadata": {},
     "output_type": "execute_result"
    }
   ],
   "source": [
    "## Runtime Complexity – O(n^2); Space Complexity – O(n)\n",
    "def selectionsort(arr):\n",
    "    \n",
    "    sorted_arr = []\n",
    "    \n",
    "    while len(arr) > 0:\n",
    "        \n",
    "        min_ = float('inf')\n",
    "        for i in arr:\n",
    "            if i < min_:\n",
    "                min_ = i\n",
    "        \n",
    "        sorted_arr.append(min_)\n",
    "        arr.remove(min_)\n",
    "\n",
    "    return sorted_arr\n",
    "\n",
    "\n",
    "arr = [12,34,1,12,8,6,101,54,31]\n",
    "selectionsort(arr)"
   ]
  },
  {
   "cell_type": "code",
   "execution_count": null,
   "id": "9895e2aa",
   "metadata": {},
   "outputs": [
    {
     "data": {
      "text/plain": [
       "[1, 6, 8, 12, 12, 31, 34, 54, 101]"
      ]
     },
     "execution_count": 8,
     "metadata": {},
     "output_type": "execute_result"
    }
   ],
   "source": [
    "## Runtime – O(n^2); Space – O(1)\n",
    "def selectionsort(arr):\n",
    "    for j in range(len(arr)):\n",
    "        min_i = j\n",
    "        for i in range(j+1,len(arr)):\n",
    "            if arr[i] < arr[min_i]:\n",
    "                min_i = i\n",
    "\n",
    "        arr[min_i], arr[j] = arr[j], arr[min_i]\n",
    "\n",
    "    return arr\n",
    "\n",
    "\n",
    "arr = [101,12,34,1,12,8,6,54,31]\n",
    "selectionsort(arr)"
   ]
  },
  {
   "cell_type": "markdown",
   "id": "ae2b506a",
   "metadata": {},
   "source": [
    "## Bubble Sort"
   ]
  },
  {
   "cell_type": "code",
   "execution_count": null,
   "id": "0ce691a6",
   "metadata": {},
   "outputs": [
    {
     "data": {
      "text/plain": [
       "[1, 6, 8, 12, 12, 31, 34, 54, 101]"
      ]
     },
     "execution_count": 11,
     "metadata": {},
     "output_type": "execute_result"
    }
   ],
   "source": [
    "## Runtime – O(n^2); Space – O(1)\n",
    "def bubblesort(arr):\n",
    "    swap = True\n",
    "    while swap == True:\n",
    "        swap = False\n",
    "        for j in range(len(arr)-1):\n",
    "            if arr[j] > arr[j+1]:\n",
    "                arr[j], arr[j+1] = arr[j+1], arr[j]\n",
    "                swap = True\n",
    "\n",
    "    return arr\n",
    "\n",
    "\n",
    "arr = [101,12,34,1,12,8,6,54,31]\n",
    "bubblesort(arr)"
   ]
  },
  {
   "cell_type": "markdown",
   "id": "9f2d53d0",
   "metadata": {},
   "source": [
    "## Insertion Sort"
   ]
  },
  {
   "cell_type": "code",
   "execution_count": null,
   "id": "676d3e59",
   "metadata": {},
   "outputs": [
    {
     "data": {
      "text/plain": [
       "[1, 6, 8, 12, 12, 31, 34, 54, 101]"
      ]
     },
     "execution_count": 23,
     "metadata": {},
     "output_type": "execute_result"
    }
   ],
   "source": [
    "## \n",
    "def insertionsort(arr):\n",
    "    for i in range(len(arr)-1):\n",
    "        for j in range(i+1,0,-1):\n",
    "            if arr[j] < arr[j-1]:\n",
    "                arr[j], arr[j-1] = arr[j-1], arr[j]\n",
    "            else:\n",
    "                break\n",
    "    return arr\n",
    "\n",
    "\n",
    "arr = [101,12,34,1,12,8,6,54,31]\n",
    "insertionsort(arr)"
   ]
  }
 ],
 "metadata": {
  "kernelspec": {
   "display_name": "Python 3",
   "language": "python",
   "name": "python3"
  },
  "language_info": {
   "codemirror_mode": {
    "name": "ipython",
    "version": 3
   },
   "file_extension": ".py",
   "mimetype": "text/x-python",
   "name": "python",
   "nbconvert_exporter": "python",
   "pygments_lexer": "ipython3",
   "version": "3.11.4"
  }
 },
 "nbformat": 4,
 "nbformat_minor": 5
}
