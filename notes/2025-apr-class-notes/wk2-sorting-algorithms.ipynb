{
 "cells": [
  {
   "cell_type": "markdown",
   "id": "6585ce7e",
   "metadata": {},
   "source": [
    "# Week 2: Sorting Algorithms"
   ]
  },
  {
   "cell_type": "markdown",
   "id": "f3bb6551",
   "metadata": {},
   "source": [
    "## Selection Sort"
   ]
  },
  {
   "cell_type": "code",
   "execution_count": null,
   "id": "ea613819",
   "metadata": {},
   "outputs": [
    {
     "data": {
      "text/plain": [
       "[1, 6, 8, 12, 12, 31, 34, 54, 101]"
      ]
     },
     "execution_count": 4,
     "metadata": {},
     "output_type": "execute_result"
    }
   ],
   "source": [
    "## Runtime Complexity – O(n^2); Space Complexity – O(n)\n",
    "def selectionsort(arr):\n",
    "    \n",
    "    sorted_arr = []\n",
    "    \n",
    "    while len(arr) > 0:\n",
    "        \n",
    "        min_ = float('inf')\n",
    "        for i in arr:\n",
    "            if i < min_:\n",
    "                min_ = i\n",
    "        \n",
    "        sorted_arr.append(min_)\n",
    "        arr.remove(min_)\n",
    "\n",
    "    return sorted_arr\n",
    "\n",
    "\n",
    "arr = [12,34,1,12,8,6,101,54,31]\n",
    "selectionsort(arr)"
   ]
  },
  {
   "cell_type": "code",
   "execution_count": null,
   "id": "9895e2aa",
   "metadata": {},
   "outputs": [
    {
     "data": {
      "text/plain": [
       "[1, 6, 8, 12, 12, 31, 34, 54, 101]"
      ]
     },
     "execution_count": 8,
     "metadata": {},
     "output_type": "execute_result"
    }
   ],
   "source": [
    "## Runtime – O(n^2); Space – O(1)\n",
    "def selectionsort(arr):\n",
    "    for j in range(len(arr)):\n",
    "        min_i = j\n",
    "        for i in range(j+1,len(arr)):\n",
    "            if arr[i] < arr[min_i]:\n",
    "                min_i = i\n",
    "\n",
    "        arr[min_i], arr[j] = arr[j], arr[min_i]\n",
    "\n",
    "    return arr\n",
    "\n",
    "\n",
    "arr = [101,12,34,1,12,8,6,54,31]\n",
    "selectionsort(arr)"
   ]
  },
  {
   "cell_type": "markdown",
   "id": "ae2b506a",
   "metadata": {},
   "source": [
    "## Bubble Sort"
   ]
  },
  {
   "cell_type": "code",
   "execution_count": null,
   "id": "0ce691a6",
   "metadata": {},
   "outputs": [
    {
     "data": {
      "text/plain": [
       "[1, 6, 8, 12, 12, 31, 34, 54, 101]"
      ]
     },
     "execution_count": 11,
     "metadata": {},
     "output_type": "execute_result"
    }
   ],
   "source": [
    "## Runtime – O(n^2); Space – O(1)\n",
    "def bubblesort(arr):\n",
    "    swap = True\n",
    "    while swap == True:\n",
    "        swap = False\n",
    "        for j in range(len(arr)-1):\n",
    "            if arr[j] > arr[j+1]:\n",
    "                arr[j], arr[j+1] = arr[j+1], arr[j]\n",
    "                swap = True\n",
    "\n",
    "    return arr\n",
    "\n",
    "\n",
    "arr = [101,12,34,1,12,8,6,54,31]\n",
    "bubblesort(arr)"
   ]
  },
  {
   "cell_type": "markdown",
   "id": "9f2d53d0",
   "metadata": {},
   "source": [
    "## Insertion Sort"
   ]
  },
  {
   "cell_type": "code",
   "execution_count": null,
   "id": "676d3e59",
   "metadata": {},
   "outputs": [
    {
     "data": {
      "text/plain": [
       "[1, 6, 8, 12, 12, 31, 34, 54, 101]"
      ]
     },
     "execution_count": 23,
     "metadata": {},
     "output_type": "execute_result"
    }
   ],
   "source": [
    "## Runtime – O(n^2); Space – O(1)\n",
    "def insertionsort(arr):\n",
    "    for i in range(len(arr)-1):\n",
    "        for j in range(i+1,0,-1):\n",
    "            if arr[j] < arr[j-1]:\n",
    "                arr[j], arr[j-1] = arr[j-1], arr[j]\n",
    "            else:\n",
    "                break\n",
    "    return arr\n",
    "\n",
    "\n",
    "arr = [101,12,34,1,12,8,6,54,31]\n",
    "insertionsort(arr)"
   ]
  },
  {
   "cell_type": "markdown",
   "id": "831692ba",
   "metadata": {},
   "source": [
    "## Understanding Recursion\n",
    "Recursive functions are functions that call themseleves"
   ]
  },
  {
   "cell_type": "code",
   "execution_count": 8,
   "id": "3effd323",
   "metadata": {},
   "outputs": [
    {
     "data": {
      "text/plain": [
       "5050"
      ]
     },
     "execution_count": 8,
     "metadata": {},
     "output_type": "execute_result"
    }
   ],
   "source": [
    "def sum_(n):\n",
    "    if n == 0:\n",
    "        return 0\n",
    "    return sum_(n-1) + n\n",
    "\n",
    "\n",
    "sum_(100)"
   ]
  },
  {
   "cell_type": "code",
   "execution_count": 12,
   "id": "05030a8e",
   "metadata": {},
   "outputs": [
    {
     "data": {
      "text/plain": [
       "120"
      ]
     },
     "execution_count": 12,
     "metadata": {},
     "output_type": "execute_result"
    }
   ],
   "source": [
    "def factorial(n):\n",
    "    if n == 0:\n",
    "        return 1\n",
    "    return factorial(n-1) * n\n",
    "\n",
    "factorial(5)"
   ]
  },
  {
   "cell_type": "code",
   "execution_count": 16,
   "id": "c32babe5",
   "metadata": {},
   "outputs": [
    {
     "data": {
      "text/plain": [
       "55"
      ]
     },
     "execution_count": 16,
     "metadata": {},
     "output_type": "execute_result"
    }
   ],
   "source": [
    "### Fibonacci Sequence\n",
    "def fibonacci(n):\n",
    "    if n < 3:\n",
    "        return 1\n",
    "    return fibonacci(n-1) + fibonacci(n-2)\n",
    "\n",
    "\n",
    "fibonacci(10)"
   ]
  },
  {
   "cell_type": "markdown",
   "id": "b8584034",
   "metadata": {},
   "source": [
    "## Merge Sort"
   ]
  },
  {
   "cell_type": "code",
   "execution_count": null,
   "id": "f15800df",
   "metadata": {},
   "outputs": [
    {
     "data": {
      "text/plain": [
       "[12, 31, 67, 90]"
      ]
     },
     "execution_count": 25,
     "metadata": {},
     "output_type": "execute_result"
    }
   ],
   "source": [
    "def merge(a,b):\n",
    "    '''Takes in two sorted arrays;\n",
    "    Merges them into one sorted'''\n",
    "    arr_sorted = []\n",
    "    while len(a) > 0 and len(b) > 0:\n",
    "        if a[0] < b[0]:\n",
    "            arr_sorted.append(a[0])\n",
    "            a = a[1:]\n",
    "        else:\n",
    "            arr_sorted.append(b[0])\n",
    "            b = b[1:]\n",
    "\n",
    "    if len(a) > 0:\n",
    "        arr_sorted += a\n",
    "\n",
    "    if len(b) > 0:\n",
    "        arr_sorted += b\n",
    "\n",
    "    return arr_sorted\n",
    "\n",
    "\n",
    "merge([12,67],[31,90])"
   ]
  },
  {
   "cell_type": "code",
   "execution_count": null,
   "id": "15a41b41",
   "metadata": {},
   "outputs": [
    {
     "data": {
      "text/plain": [
       "[1, 3, 10, 12, 32, 45, 65, 78, 101]"
      ]
     },
     "execution_count": 29,
     "metadata": {},
     "output_type": "execute_result"
    }
   ],
   "source": [
    "## Runtime – O(n log n); Space Complexity – O(n)\n",
    "def mergesort(arr):\n",
    "\n",
    "    if len(arr) <= 1:\n",
    "        return arr\n",
    "\n",
    "    mid = len(arr)//2\n",
    "\n",
    "    left_arr = arr[:mid]\n",
    "    right_arr = arr[mid:]\n",
    "\n",
    "    return merge(mergesort(left_arr),mergesort(right_arr))\n",
    "\n",
    "\n",
    "mergesort([12, 65, 1, 32, 78, 10, 3, 101,45])"
   ]
  },
  {
   "cell_type": "markdown",
   "id": "752fb773",
   "metadata": {},
   "source": [
    "## Quicksort"
   ]
  },
  {
   "cell_type": "code",
   "execution_count": null,
   "id": "b4608c7f",
   "metadata": {},
   "outputs": [
    {
     "data": {
      "text/plain": [
       "[1, 3, 10, 12, 32, 45, 65, 78, 101]"
      ]
     },
     "execution_count": 33,
     "metadata": {},
     "output_type": "execute_result"
    }
   ],
   "source": [
    "## This is not the working solution for quicksort because it introduces space complexity\n",
    "def quicksort(arr):\n",
    "    \n",
    "    if len(arr) <= 1:\n",
    "        return arr\n",
    "\n",
    "    pivot = arr[-1]\n",
    "\n",
    "    left_arr = []\n",
    "    right_arr = []\n",
    "\n",
    "    for i in range(len(arr)-1):\n",
    "        if arr[i] < pivot:\n",
    "            left_arr.append(arr[i])\n",
    "        else:\n",
    "            right_arr.append(arr[i])\n",
    "\n",
    "    return quicksort(left_arr) + [pivot] + quicksort(right_arr)\n",
    "\n",
    "\n",
    "quicksort([12, 65, 1, 32, 78, 10, 3, 101,45])"
   ]
  },
  {
   "cell_type": "code",
   "execution_count": null,
   "id": "f0339332",
   "metadata": {},
   "outputs": [],
   "source": []
  }
 ],
 "metadata": {
  "kernelspec": {
   "display_name": "Python 3",
   "language": "python",
   "name": "python3"
  },
  "language_info": {
   "codemirror_mode": {
    "name": "ipython",
    "version": 3
   },
   "file_extension": ".py",
   "mimetype": "text/x-python",
   "name": "python",
   "nbconvert_exporter": "python",
   "pygments_lexer": "ipython3",
   "version": "3.11.4"
  }
 },
 "nbformat": 4,
 "nbformat_minor": 5
}
